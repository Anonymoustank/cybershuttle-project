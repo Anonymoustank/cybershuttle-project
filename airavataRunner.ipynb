{
 "cells": [
  {
   "cell_type": "code",
   "execution_count": 1,
   "metadata": {},
   "outputs": [
    {
     "name": "stdout",
     "output_type": "stream",
     "text": [
      "Note: you may need to restart the kernel to use updated packages.\n",
      "\n",
      "Loaded airavata_jupyter_magic (2.0.12) \n",
      "(current runtime = local)\n",
      "\n",
      "  %authenticate                      -- Authenticate to access high-performance runtimes.\n",
      "  %request_runtime <rt> [args]       -- Request a runtime named <rt> with configuration <args>. Call multiple times to request multiple runtimes.\n",
      "  %restart_runtime <rt>              -- Restart runtime <rt>. Run this if you install new dependencies or if the runtime hangs.\n",
      "  %stop_runtime <rt>                 -- Stop runtime <rt> when no longer needed.\n",
      "  %switch_runtime <rt>               -- Switch active runtime to <rt>. All subsequent executions will use this runtime.\n",
      "  %%run_on <rt>                      -- Force a cell to always execute on <rt>, regardless of the active runtime.\n",
      "  %stat_runtime <rt>                 -- Show the status of runtime <rt>.\n",
      "  %copy_data <r1:file1> <r2:file2>   -- Copy <file1> in <r1> to <file2> in <r2>.\n",
      "\n"
     ]
    }
   ],
   "source": [
    "%pip install -q --no-cache-dir airavata-python-sdk[notebook]\n",
    "import airavata_jupyter_magic\n"
   ]
  },
  {
   "cell_type": "code",
   "execution_count": 2,
   "metadata": {},
   "outputs": [
    {
     "data": {
      "application/vnd.jupyter.widget-view+json": {
       "model_id": "2ba6c665952d475bbd4e48e1cd768d92",
       "version_major": 2,
       "version_minor": 0
      },
      "text/plain": [
       "Output()"
      ]
     },
     "metadata": {},
     "output_type": "display_data"
    },
    {
     "data": {
      "text/html": [
       "<pre style=\"white-space:pre;overflow-x:auto;line-height:normal;font-family:Menlo,'DejaVu Sans Mono',consolas,'Courier New',monospace\">Authenticated.\n",
       "</pre>\n"
      ],
      "text/plain": [
       "Authenticated.\n"
      ]
     },
     "metadata": {},
     "output_type": "display_data"
    },
    {
     "data": {
      "text/html": [
       "<pre style=\"white-space:pre;overflow-x:auto;line-height:normal;font-family:Menlo,'DejaVu Sans Mono',consolas,'Courier New',monospace\"></pre>\n"
      ],
      "text/plain": []
     },
     "metadata": {},
     "output_type": "display_data"
    },
    {
     "data": {
      "text/html": [
       "<pre style=\"white-space:pre;overflow-x:auto;line-height:normal;font-family:Menlo,'DejaVu Sans Mono',consolas,'Courier New',monospace\"></pre>\n"
      ],
      "text/plain": []
     },
     "metadata": {},
     "output_type": "display_data"
    },
    {
     "name": "stdout",
     "output_type": "stream",
     "text": [
      "Requesting runtime=hpc_cpu\n",
      "cpuCount: 4\n",
      "experimentName: CS_Agent\n",
      "group: Default\n",
      "libraries:\n",
      "- python=3.10\n",
      "- pip\n",
      "memory: 0\n",
      "mounts:\n",
      "- cybershuttle-reference:/cybershuttle_data/cybershuttle-reference\n",
      "nodeCount: 1\n",
      "pip: []\n",
      "queue: cloud\n",
      "remoteCluster: NeuroData25VC1\n",
      "wallTime: 60\n",
      "\n",
      "Requested runtime=hpc_cpu. state=CONFIGURING_WORKSPACE\n",
      "Switched to runtime=hpc_cpu.\n"
     ]
    }
   ],
   "source": [
    "%authenticate\n",
    "%request_runtime hpc_cpu --file=cybershuttle.yml --walltime=60 --use=NeuroData25VC1:cloud,expanse:shared,anvil:shared\n",
    "\n",
    "# code below doesn't work, I believe it's in an error in the airavata code\n",
    "\n",
    "# import os\n",
    "# directory = \"pictures\"\n",
    "# for filename in os.listdir(directory):\n",
    "#     f = os.path.join(directory, filename)\n",
    "#     if os.path.isfile(f):\n",
    "#         image_path = f\n",
    "#         %copy_data target=local:{image_path} source=hpc_cpu:{os.path.basename(your_path)}\n",
    "\n",
    "\n",
    "%switch_runtime hpc_cpu"
   ]
  },
  {
   "cell_type": "code",
   "execution_count": 3,
   "metadata": {},
   "outputs": [
    {
     "name": "stdout",
     "output_type": "stream",
     "text": [
      "\u001b[2K\u001b[32m⠸\u001b[0m Connecting to=hpc_cpu... status=CONNECTEDWORKSPACEG_WORKSPACE\n",
      "\u001b[1A\u001b[2K\u001b[2J\u001b[HRequirement already satisfied: transformers in /scratch/envs/94be70b6/lib/python3.10/site-packages (4.51.3)\n",
      "Requirement already satisfied: torch in /scratch/envs/94be70b6/lib/python3.10/site-packages (2.7.0)\n",
      "Requirement already satisfied: ipywidgets in /scratch/envs/94be70b6/lib/python3.10/site-packages (8.1.6)\n",
      "Requirement already satisfied: pillow in /scratch/envs/94be70b6/lib/python3.10/site-packages (11.2.1)\n",
      "Requirement already satisfied: filelock in /scratch/envs/94be70b6/lib/python3.10/site-packages (from transformers) (3.18.0)\n",
      "Requirement already satisfied: huggingface-hub<1.0,>=0.30.0 in /scratch/envs/94be70b6/lib/python3.10/site-packages (from transformers) (0.30.2)\n",
      "Requirement already satisfied: numpy>=1.17 in /scratch/envs/94be70b6/lib/python3.10/site-packages (from transformers) (2.2.5)\n",
      "Requirement already satisfied: packaging>=20.0 in /scratch/envs/94be70b6/lib/python3.10/site-packages (from transformers) (25.0)\n",
      "Requirement already satisfied: pyyaml>=5.1 in /scratch/envs/94be70b6/lib/python3.10/site-packages (from transformers) (6.0.2)\n",
      "Requirement already satisfied: regex!=2019.12.17 in /scratch/envs/94be70b6/lib/python3.10/site-packages (from transformers) (2024.11.6)\n",
      "Requirement already satisfied: requests in /scratch/envs/94be70b6/lib/python3.10/site-packages (from transformers) (2.32.3)\n",
      "Requirement already satisfied: tokenizers<0.22,>=0.21 in /scratch/envs/94be70b6/lib/python3.10/site-packages (from transformers) (0.21.1)\n",
      "Requirement already satisfied: safetensors>=0.4.3 in /scratch/envs/94be70b6/lib/python3.10/site-packages (from transformers) (0.5.3)\n",
      "Requirement already satisfied: tqdm>=4.27 in /scratch/envs/94be70b6/lib/python3.10/site-packages (from transformers) (4.67.1)\n",
      "Requirement already satisfied: fsspec>=2023.5.0 in /scratch/envs/94be70b6/lib/python3.10/site-packages (from huggingface-hub<1.0,>=0.30.0->transformers) (2025.3.2)\n",
      "Requirement already satisfied: typing-extensions>=3.7.4.3 in /scratch/envs/94be70b6/lib/python3.10/site-packages (from huggingface-hub<1.0,>=0.30.0->transformers) (4.13.2)\n",
      "Requirement already satisfied: sympy>=1.13.3 in /scratch/envs/94be70b6/lib/python3.10/site-packages (from torch) (1.14.0)\n",
      "Requirement already satisfied: networkx in /scratch/envs/94be70b6/lib/python3.10/site-packages (from torch) (3.4.2)\n",
      "Requirement already satisfied: jinja2 in /scratch/envs/94be70b6/lib/python3.10/site-packages (from torch) (3.1.6)\n",
      "Requirement already satisfied: nvidia-cuda-nvrtc-cu12==12.6.77 in /scratch/envs/94be70b6/lib/python3.10/site-packages (from torch) (12.6.77)\n",
      "Requirement already satisfied: nvidia-cuda-runtime-cu12==12.6.77 in /scratch/envs/94be70b6/lib/python3.10/site-packages (from torch) (12.6.77)\n",
      "Requirement already satisfied: nvidia-cuda-cupti-cu12==12.6.80 in /scratch/envs/94be70b6/lib/python3.10/site-packages (from torch) (12.6.80)\n",
      "Requirement already satisfied: nvidia-cudnn-cu12==9.5.1.17 in /scratch/envs/94be70b6/lib/python3.10/site-packages (from torch) (9.5.1.17)\n",
      "Requirement already satisfied: nvidia-cublas-cu12==12.6.4.1 in /scratch/envs/94be70b6/lib/python3.10/site-packages (from torch) (12.6.4.1)\n",
      "Requirement already satisfied: nvidia-cufft-cu12==11.3.0.4 in /scratch/envs/94be70b6/lib/python3.10/site-packages (from torch) (11.3.0.4)\n",
      "Requirement already satisfied: nvidia-curand-cu12==10.3.7.77 in /scratch/envs/94be70b6/lib/python3.10/site-packages (from torch) (10.3.7.77)\n",
      "Requirement already satisfied: nvidia-cusolver-cu12==11.7.1.2 in /scratch/envs/94be70b6/lib/python3.10/site-packages (from torch) (11.7.1.2)\n",
      "Requirement already satisfied: nvidia-cusparse-cu12==12.5.4.2 in /scratch/envs/94be70b6/lib/python3.10/site-packages (from torch) (12.5.4.2)\n",
      "Requirement already satisfied: nvidia-cusparselt-cu12==0.6.3 in /scratch/envs/94be70b6/lib/python3.10/site-packages (from torch) (0.6.3)\n",
      "Requirement already satisfied: nvidia-nccl-cu12==2.26.2 in /scratch/envs/94be70b6/lib/python3.10/site-packages (from torch) (2.26.2)\n",
      "Requirement already satisfied: nvidia-nvtx-cu12==12.6.77 in /scratch/envs/94be70b6/lib/python3.10/site-packages (from torch) (12.6.77)\n",
      "Requirement already satisfied: nvidia-nvjitlink-cu12==12.6.85 in /scratch/envs/94be70b6/lib/python3.10/site-packages (from torch) (12.6.85)\n",
      "Requirement already satisfied: nvidia-cufile-cu12==1.11.1.6 in /scratch/envs/94be70b6/lib/python3.10/site-packages (from torch) (1.11.1.6)\n",
      "Requirement already satisfied: triton==3.3.0 in /scratch/envs/94be70b6/lib/python3.10/site-packages (from torch) (3.3.0)\n",
      "Requirement already satisfied: setuptools>=40.8.0 in /scratch/envs/94be70b6/lib/python3.10/site-packages (from triton==3.3.0->torch) (79.0.1)\n",
      "Requirement already satisfied: comm>=0.1.3 in /scratch/envs/94be70b6/lib/python3.10/site-packages (from ipywidgets) (0.2.2)\n",
      "Requirement already satisfied: ipython>=6.1.0 in /scratch/envs/94be70b6/lib/python3.10/site-packages (from ipywidgets) (8.36.0)\n",
      "Requirement already satisfied: traitlets>=4.3.1 in /scratch/envs/94be70b6/lib/python3.10/site-packages (from ipywidgets) (5.14.3)\n",
      "Requirement already satisfied: widgetsnbextension~=4.0.14 in /scratch/envs/94be70b6/lib/python3.10/site-packages (from ipywidgets) (4.0.14)\n",
      "Requirement already satisfied: jupyterlab_widgets~=3.0.14 in /scratch/envs/94be70b6/lib/python3.10/site-packages (from ipywidgets) (3.0.14)\n",
      "Requirement already satisfied: decorator in /scratch/envs/94be70b6/lib/python3.10/site-packages (from ipython>=6.1.0->ipywidgets) (5.2.1)\n",
      "Requirement already satisfied: exceptiongroup in /scratch/envs/94be70b6/lib/python3.10/site-packages (from ipython>=6.1.0->ipywidgets) (1.2.2)\n",
      "Requirement already satisfied: jedi>=0.16 in /scratch/envs/94be70b6/lib/python3.10/site-packages (from ipython>=6.1.0->ipywidgets) (0.19.2)\n",
      "Requirement already satisfied: matplotlib-inline in /scratch/envs/94be70b6/lib/python3.10/site-packages (from ipython>=6.1.0->ipywidgets) (0.1.7)\n",
      "Requirement already satisfied: pexpect>4.3 in /scratch/envs/94be70b6/lib/python3.10/site-packages (from ipython>=6.1.0->ipywidgets) (4.9.0)\n",
      "Requirement already satisfied: prompt_toolkit<3.1.0,>=3.0.41 in /scratch/envs/94be70b6/lib/python3.10/site-packages (from ipython>=6.1.0->ipywidgets) (3.0.51)\n",
      "Requirement already satisfied: pygments>=2.4.0 in /scratch/envs/94be70b6/lib/python3.10/site-packages (from ipython>=6.1.0->ipywidgets) (2.19.1)\n",
      "Requirement already satisfied: stack_data in /scratch/envs/94be70b6/lib/python3.10/site-packages (from ipython>=6.1.0->ipywidgets) (0.6.3)\n",
      "Requirement already satisfied: wcwidth in /scratch/envs/94be70b6/lib/python3.10/site-packages (from prompt_toolkit<3.1.0,>=3.0.41->ipython>=6.1.0->ipywidgets) (0.2.13)\n",
      "Requirement already satisfied: parso<0.9.0,>=0.8.4 in /scratch/envs/94be70b6/lib/python3.10/site-packages (from jedi>=0.16->ipython>=6.1.0->ipywidgets) (0.8.4)\n",
      "Requirement already satisfied: ptyprocess>=0.5 in /scratch/envs/94be70b6/lib/python3.10/site-packages (from pexpect>4.3->ipython>=6.1.0->ipywidgets) (0.7.0)\n",
      "Requirement already satisfied: mpmath<1.4,>=1.1.0 in /scratch/envs/94be70b6/lib/python3.10/site-packages (from sympy>=1.13.3->torch) (1.3.0)\n",
      "Requirement already satisfied: MarkupSafe>=2.0 in /scratch/envs/94be70b6/lib/python3.10/site-packages (from jinja2->torch) (3.0.2)\n",
      "Requirement already satisfied: charset-normalizer<4,>=2 in /scratch/envs/94be70b6/lib/python3.10/site-packages (from requests->transformers) (3.4.1)\n",
      "Requirement already satisfied: idna<4,>=2.5 in /scratch/envs/94be70b6/lib/python3.10/site-packages (from requests->transformers) (3.10)\n",
      "Requirement already satisfied: urllib3<3,>=1.21.1 in /scratch/envs/94be70b6/lib/python3.10/site-packages (from requests->transformers) (2.4.0)\n",
      "Requirement already satisfied: certifi>=2017.4.17 in /scratch/envs/94be70b6/lib/python3.10/site-packages (from requests->transformers) (2025.4.26)\n",
      "Requirement already satisfied: executing>=1.2.0 in /scratch/envs/94be70b6/lib/python3.10/site-packages (from stack_data->ipython>=6.1.0->ipywidgets) (2.2.0)\n",
      "Requirement already satisfied: asttokens>=2.1.0 in /scratch/envs/94be70b6/lib/python3.10/site-packages (from stack_data->ipython>=6.1.0->ipywidgets) (3.0.0)\n",
      "Requirement already satisfied: pure_eval in /scratch/envs/94be70b6/lib/python3.10/site-packages (from stack_data->ipython>=6.1.0->ipywidgets) (0.2.3)\n",
      "Note: you may need to restart the kernel to use updated packages.\n"
     ]
    }
   ],
   "source": [
    "%pip install transformers torch ipywidgets pillow"
   ]
  },
  {
   "cell_type": "code",
   "execution_count": 4,
   "metadata": {},
   "outputs": [
    {
     "name": "stdout",
     "output_type": "stream",
     "text": [
      "\u001b[2K\u001b[32m⠹\u001b[0m Connecting to=hpc_cpu... status=CONNECTED\n",
      "\u001b[1A\u001b[2K\u001b[2J\u001b[H"
     ]
    },
    {
     "data": {
      "text/html": [
       "\n",
       "                    <div style=\"\n",
       "                        color: #a71d5d;\n",
       "                        background-color: #fdd;\n",
       "                        border: 1px solid #a71d5d;\n",
       "                        padding: 5px;\n",
       "                        border-radius: 5px;\n",
       "                        font-family: Consolas, 'Courier New', monospace;\n",
       "                        white-space: pre-wrap;\n",
       "                    \">\n",
       "                        Using a slow image processor as `use_fast` is unset and a slow processor was saved with this model. `use_fast=True` will be the default behavior in v4.52, even if the model was saved with a slow processor. This will result in minor differences in outputs. You'll still be able to use a slow processor with `use_fast=False`.\n",
       "                    </div>\n",
       "                    "
      ],
      "text/plain": [
       "<IPython.core.display.HTML object>"
      ]
     },
     "metadata": {},
     "output_type": "display_data"
    },
    {
     "name": "stdout",
     "output_type": "stream",
     "text": [
      "Predicted class for downloaded image: lakeside, lakeshore\n",
      "\n",
      "=== Performance Metrics ===\n",
      "Execution Time: 1.27 seconds\n",
      "Memory Usage: 64.67 MB\n",
      "Peak Memory During Execution: 4.25 MB\n",
      "CPU Utilization: 0.34%\n",
      "========================\n"
     ]
    }
   ],
   "source": [
    "import time\n",
    "import torch\n",
    "from transformers import AutoImageProcessor, ResNetForImageClassification\n",
    "# from datasets import load_dataset\n",
    "from PIL import Image\n",
    "import tracemalloc\n",
    "import subprocess\n",
    "import gc\n",
    "import os\n",
    "import platform\n",
    "from io import BytesIO\n",
    "import requests\n",
    "\n",
    "def get_process_memory():\n",
    "    \"\"\"Get memory usage in MB using OS-specific commands\"\"\"\n",
    "    if platform.system() == \"Linux\":\n",
    "        with open('/proc/self/status') as f:\n",
    "            for line in f:\n",
    "                if 'VmRSS' in line:\n",
    "                    return int(line.split()[1]) / 1024  # Convert KB to MB\n",
    "    else:\n",
    "        #shouldn't be needed because I'm using WSL on local and Linux in ICE but still\n",
    "        import resource\n",
    "        return resource.getrusage(resource.RUSAGE_SELF).ru_maxrss / 1024\n",
    "\n",
    "def get_cpu_usage():\n",
    "    \"\"\"Get CPU utilization as a percentage without psutil.\"\"\"\n",
    "    if platform.system() == \"Linux\" or platform.system() == \"Darwin\":  # macOS/Linux\n",
    "        with open('/proc/stat', 'r') as f:\n",
    "            lines = f.readlines()\n",
    "            cpu_line = lines[0].split()\n",
    "            total_time = sum(map(int, cpu_line[1:]))  # Sum of all time components\n",
    "            idle_time = int(cpu_line[4])  # Idle time\n",
    "            return 100 * (1 - (idle_time / total_time))  # CPU usage percentage\n",
    "\n",
    "    elif platform.system() == \"Windows\":  # Windows method using WMIC\n",
    "        try:\n",
    "            output = subprocess.check_output(\"wmic cpu get loadpercentage\", shell=True)\n",
    "            return float(output.split()[1])\n",
    "        except Exception:\n",
    "            return 0.0  # Fallback if command fails\n",
    "\n",
    "    return 0.0  # Default if OS is unsupported\n",
    "\n",
    "def track_performance(func):\n",
    "    def wrapper(*args, **kwargs):\n",
    "        gc.collect()  # Request garbage collection\n",
    "        \n",
    "        tracemalloc.start()  # Start memory tracking\n",
    "        start_memory = get_process_memory()\n",
    "        start_time = time.time()\n",
    "        start_cpu = get_cpu_usage()  # Capture initial CPU usage\n",
    "\n",
    "        result = func(*args, **kwargs)  # Execute function\n",
    "        \n",
    "        end_time = time.time()  # Capture end time\n",
    "        end_memory = get_process_memory()\n",
    "        end_cpu = get_cpu_usage()  # Capture final CPU usage\n",
    "        current, peak = tracemalloc.get_traced_memory()\n",
    "        \n",
    "        tracemalloc.stop()  # Stop memory tracking\n",
    "\n",
    "        print(\"\\n=== Performance Metrics ===\")\n",
    "        print(f\"Execution Time: {end_time - start_time:.2f} seconds\")\n",
    "        print(f\"Memory Usage: {end_memory - start_memory:.2f} MB\")\n",
    "        print(f\"Peak Memory During Execution: {peak / 1024 / 1024:.2f} MB\")\n",
    "        print(f\"CPU Utilization: {end_cpu:.2f}%\")\n",
    "        if torch.cuda.is_available():\n",
    "            print(f\"GPU Memory Allocated: {torch.cuda.memory_allocated() / 1024 / 1024:.2f} MB\")\n",
    "            print(f\"GPU Memory Reserved: {torch.cuda.memory_reserved() / 1024 / 1024:.2f} MB\")\n",
    "        print(\"========================\\n\")\n",
    "\n",
    "        return result\n",
    "    return wrapper\n",
    "\n",
    "def classify_image(image_path, processor, model):\n",
    "    # https://huggingface.co/docs/datasets/en/loading\n",
    "\n",
    "    # dataset = load_dataset(\"huggingface/cats-image\")\n",
    "    # imagePath = dataset[\"test\"][\"image\"][0]  # Get the first image from the test set\n",
    "    # print(imagePath)\n",
    "    # pil_image = Image.open(imagePath)\n",
    "    if isinstance(image_path, Image.Image):\n",
    "        pil_image = image_path\n",
    "    else:\n",
    "        pil_image = Image.open(image_path)\n",
    "\n",
    "    device = \"cuda\" if torch.cuda.is_available() else \"cpu\"\n",
    "    model = model.to(device)\n",
    "\n",
    "    inputs = processor(pil_image, return_tensors=\"pt\") # image processing needed for model\n",
    "    inputs = {k: v.to(device) for k, v in inputs.items()}\n",
    "\n",
    "    \n",
    "    with torch.no_grad():\n",
    "        logits = model(**inputs).logits # prediction for what image is done by model\n",
    "\n",
    "    predicted_label = logits.argmax(-1).item()\n",
    "    return model.config.id2label[predicted_label] # return the label of the image\n",
    "\n",
    "@track_performance\n",
    "def main():    \n",
    "    url = \"https://janakiev.com/assets/python-pilow-download-image_files/photo-1465056836041-7f43ac27dcb5.jpg\" # change this url to an image you want (local images not supported because the copy command doesn't work)\n",
    "    \n",
    "    response = requests.get(url)\n",
    "    img = Image.open(BytesIO(response.content))\n",
    "    \n",
    "    processor = AutoImageProcessor.from_pretrained(\"microsoft/resnet-50\")\n",
    "    model = ResNetForImageClassification.from_pretrained(\"microsoft/resnet-50\")\n",
    "    \n",
    "    prediction = classify_image(img, processor, model)\n",
    "    print(f\"Predicted class for downloaded image: {prediction}\")\n",
    "\n",
    "main()"
   ]
  }
 ],
 "metadata": {
  "kernelspec": {
   "display_name": "CS-3600",
   "language": "python",
   "name": "python3"
  },
  "language_info": {
   "codemirror_mode": {
    "name": "ipython",
    "version": 3
   },
   "file_extension": ".py",
   "mimetype": "text/x-python",
   "name": "python",
   "nbconvert_exporter": "python",
   "pygments_lexer": "ipython3",
   "version": "3.10.16"
  },
  "orig_nbformat": 4
 },
 "nbformat": 4,
 "nbformat_minor": 2
}
