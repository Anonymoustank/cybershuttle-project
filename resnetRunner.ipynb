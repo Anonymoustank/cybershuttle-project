{
  "cells": [
    {
      "cell_type": "code",
      "execution_count": 3,
      "metadata": {
        "id": "9YtCnnw-u1_2"
      },
      "outputs": [
        {
          "name": "stdout",
          "output_type": "stream",
          "text": [
            "\u001b[2K\u001b[32m⠹\u001b[0m Connecting to=hpc_gpu... status=CONNECTEDWORKSPACE\n",
            "\u001b[1A\u001b[2K\u001b[2J\u001b[HRequirement already satisfied: transformers in /scratch/envs/94be70b6/lib/python3.10/site-packages (4.51.3)\n",
            "Requirement already satisfied: torch in /scratch/envs/94be70b6/lib/python3.10/site-packages (2.7.0)\n",
            "Requirement already satisfied: ipywidgets in /scratch/envs/94be70b6/lib/python3.10/site-packages (8.1.6)\n",
            "Requirement already satisfied: pillow in /scratch/envs/94be70b6/lib/python3.10/site-packages (11.2.1)\n",
            "Requirement already satisfied: filelock in /scratch/envs/94be70b6/lib/python3.10/site-packages (from transformers) (3.18.0)\n",
            "Requirement already satisfied: huggingface-hub<1.0,>=0.30.0 in /scratch/envs/94be70b6/lib/python3.10/site-packages (from transformers) (0.30.2)\n",
            "Requirement already satisfied: numpy>=1.17 in /scratch/envs/94be70b6/lib/python3.10/site-packages (from transformers) (2.2.5)\n",
            "Requirement already satisfied: packaging>=20.0 in /scratch/envs/94be70b6/lib/python3.10/site-packages (from transformers) (25.0)\n",
            "Requirement already satisfied: pyyaml>=5.1 in /scratch/envs/94be70b6/lib/python3.10/site-packages (from transformers) (6.0.2)\n",
            "Requirement already satisfied: regex!=2019.12.17 in /scratch/envs/94be70b6/lib/python3.10/site-packages (from transformers) (2024.11.6)\n",
            "Requirement already satisfied: requests in /scratch/envs/94be70b6/lib/python3.10/site-packages (from transformers) (2.32.3)\n",
            "Requirement already satisfied: tokenizers<0.22,>=0.21 in /scratch/envs/94be70b6/lib/python3.10/site-packages (from transformers) (0.21.1)\n",
            "Requirement already satisfied: safetensors>=0.4.3 in /scratch/envs/94be70b6/lib/python3.10/site-packages (from transformers) (0.5.3)\n",
            "Requirement already satisfied: tqdm>=4.27 in /scratch/envs/94be70b6/lib/python3.10/site-packages (from transformers) (4.67.1)\n",
            "Requirement already satisfied: fsspec>=2023.5.0 in /scratch/envs/94be70b6/lib/python3.10/site-packages (from huggingface-hub<1.0,>=0.30.0->transformers) (2025.3.2)\n",
            "Requirement already satisfied: typing-extensions>=3.7.4.3 in /scratch/envs/94be70b6/lib/python3.10/site-packages (from huggingface-hub<1.0,>=0.30.0->transformers) (4.13.2)\n",
            "Requirement already satisfied: sympy>=1.13.3 in /scratch/envs/94be70b6/lib/python3.10/site-packages (from torch) (1.14.0)\n",
            "Requirement already satisfied: networkx in /scratch/envs/94be70b6/lib/python3.10/site-packages (from torch) (3.4.2)\n",
            "Requirement already satisfied: jinja2 in /scratch/envs/94be70b6/lib/python3.10/site-packages (from torch) (3.1.6)\n",
            "Requirement already satisfied: nvidia-cuda-nvrtc-cu12==12.6.77 in /scratch/envs/94be70b6/lib/python3.10/site-packages (from torch) (12.6.77)\n",
            "Requirement already satisfied: nvidia-cuda-runtime-cu12==12.6.77 in /scratch/envs/94be70b6/lib/python3.10/site-packages (from torch) (12.6.77)\n",
            "Requirement already satisfied: nvidia-cuda-cupti-cu12==12.6.80 in /scratch/envs/94be70b6/lib/python3.10/site-packages (from torch) (12.6.80)\n",
            "Requirement already satisfied: nvidia-cudnn-cu12==9.5.1.17 in /scratch/envs/94be70b6/lib/python3.10/site-packages (from torch) (9.5.1.17)\n",
            "Requirement already satisfied: nvidia-cublas-cu12==12.6.4.1 in /scratch/envs/94be70b6/lib/python3.10/site-packages (from torch) (12.6.4.1)\n",
            "Requirement already satisfied: nvidia-cufft-cu12==11.3.0.4 in /scratch/envs/94be70b6/lib/python3.10/site-packages (from torch) (11.3.0.4)\n",
            "Requirement already satisfied: nvidia-curand-cu12==10.3.7.77 in /scratch/envs/94be70b6/lib/python3.10/site-packages (from torch) (10.3.7.77)\n",
            "Requirement already satisfied: nvidia-cusolver-cu12==11.7.1.2 in /scratch/envs/94be70b6/lib/python3.10/site-packages (from torch) (11.7.1.2)\n",
            "Requirement already satisfied: nvidia-cusparse-cu12==12.5.4.2 in /scratch/envs/94be70b6/lib/python3.10/site-packages (from torch) (12.5.4.2)\n",
            "Requirement already satisfied: nvidia-cusparselt-cu12==0.6.3 in /scratch/envs/94be70b6/lib/python3.10/site-packages (from torch) (0.6.3)\n",
            "Requirement already satisfied: nvidia-nccl-cu12==2.26.2 in /scratch/envs/94be70b6/lib/python3.10/site-packages (from torch) (2.26.2)\n",
            "Requirement already satisfied: nvidia-nvtx-cu12==12.6.77 in /scratch/envs/94be70b6/lib/python3.10/site-packages (from torch) (12.6.77)\n",
            "Requirement already satisfied: nvidia-nvjitlink-cu12==12.6.85 in /scratch/envs/94be70b6/lib/python3.10/site-packages (from torch) (12.6.85)\n",
            "Requirement already satisfied: nvidia-cufile-cu12==1.11.1.6 in /scratch/envs/94be70b6/lib/python3.10/site-packages (from torch) (1.11.1.6)\n",
            "Requirement already satisfied: triton==3.3.0 in /scratch/envs/94be70b6/lib/python3.10/site-packages (from torch) (3.3.0)\n",
            "Requirement already satisfied: setuptools>=40.8.0 in /scratch/envs/94be70b6/lib/python3.10/site-packages (from triton==3.3.0->torch) (79.0.1)\n",
            "Requirement already satisfied: comm>=0.1.3 in /scratch/envs/94be70b6/lib/python3.10/site-packages (from ipywidgets) (0.2.2)\n",
            "Requirement already satisfied: ipython>=6.1.0 in /scratch/envs/94be70b6/lib/python3.10/site-packages (from ipywidgets) (8.36.0)\n",
            "Requirement already satisfied: traitlets>=4.3.1 in /scratch/envs/94be70b6/lib/python3.10/site-packages (from ipywidgets) (5.14.3)\n",
            "Requirement already satisfied: widgetsnbextension~=4.0.14 in /scratch/envs/94be70b6/lib/python3.10/site-packages (from ipywidgets) (4.0.14)\n",
            "Requirement already satisfied: jupyterlab_widgets~=3.0.14 in /scratch/envs/94be70b6/lib/python3.10/site-packages (from ipywidgets) (3.0.14)\n",
            "Requirement already satisfied: decorator in /scratch/envs/94be70b6/lib/python3.10/site-packages (from ipython>=6.1.0->ipywidgets) (5.2.1)\n",
            "Requirement already satisfied: exceptiongroup in /scratch/envs/94be70b6/lib/python3.10/site-packages (from ipython>=6.1.0->ipywidgets) (1.2.2)\n",
            "Requirement already satisfied: jedi>=0.16 in /scratch/envs/94be70b6/lib/python3.10/site-packages (from ipython>=6.1.0->ipywidgets) (0.19.2)\n",
            "Requirement already satisfied: matplotlib-inline in /scratch/envs/94be70b6/lib/python3.10/site-packages (from ipython>=6.1.0->ipywidgets) (0.1.7)\n",
            "Requirement already satisfied: pexpect>4.3 in /scratch/envs/94be70b6/lib/python3.10/site-packages (from ipython>=6.1.0->ipywidgets) (4.9.0)\n",
            "Requirement already satisfied: prompt_toolkit<3.1.0,>=3.0.41 in /scratch/envs/94be70b6/lib/python3.10/site-packages (from ipython>=6.1.0->ipywidgets) (3.0.51)\n",
            "Requirement already satisfied: pygments>=2.4.0 in /scratch/envs/94be70b6/lib/python3.10/site-packages (from ipython>=6.1.0->ipywidgets) (2.19.1)\n",
            "Requirement already satisfied: stack_data in /scratch/envs/94be70b6/lib/python3.10/site-packages (from ipython>=6.1.0->ipywidgets) (0.6.3)\n",
            "Requirement already satisfied: wcwidth in /scratch/envs/94be70b6/lib/python3.10/site-packages (from prompt_toolkit<3.1.0,>=3.0.41->ipython>=6.1.0->ipywidgets) (0.2.13)\n",
            "Requirement already satisfied: parso<0.9.0,>=0.8.4 in /scratch/envs/94be70b6/lib/python3.10/site-packages (from jedi>=0.16->ipython>=6.1.0->ipywidgets) (0.8.4)\n",
            "Requirement already satisfied: ptyprocess>=0.5 in /scratch/envs/94be70b6/lib/python3.10/site-packages (from pexpect>4.3->ipython>=6.1.0->ipywidgets) (0.7.0)\n",
            "Requirement already satisfied: mpmath<1.4,>=1.1.0 in /scratch/envs/94be70b6/lib/python3.10/site-packages (from sympy>=1.13.3->torch) (1.3.0)\n",
            "Requirement already satisfied: MarkupSafe>=2.0 in /scratch/envs/94be70b6/lib/python3.10/site-packages (from jinja2->torch) (3.0.2)\n",
            "Requirement already satisfied: charset-normalizer<4,>=2 in /scratch/envs/94be70b6/lib/python3.10/site-packages (from requests->transformers) (3.4.1)\n",
            "Requirement already satisfied: idna<4,>=2.5 in /scratch/envs/94be70b6/lib/python3.10/site-packages (from requests->transformers) (3.10)\n",
            "Requirement already satisfied: urllib3<3,>=1.21.1 in /scratch/envs/94be70b6/lib/python3.10/site-packages (from requests->transformers) (2.4.0)\n",
            "Requirement already satisfied: certifi>=2017.4.17 in /scratch/envs/94be70b6/lib/python3.10/site-packages (from requests->transformers) (2025.4.26)\n",
            "Requirement already satisfied: executing>=1.2.0 in /scratch/envs/94be70b6/lib/python3.10/site-packages (from stack_data->ipython>=6.1.0->ipywidgets) (2.2.0)\n",
            "Requirement already satisfied: asttokens>=2.1.0 in /scratch/envs/94be70b6/lib/python3.10/site-packages (from stack_data->ipython>=6.1.0->ipywidgets) (3.0.0)\n",
            "Requirement already satisfied: pure_eval in /scratch/envs/94be70b6/lib/python3.10/site-packages (from stack_data->ipython>=6.1.0->ipywidgets) (0.2.3)\n",
            "Note: you may need to restart the kernel to use updated packages.\n"
          ]
        }
      ],
      "source": [
        "%pip install transformers torch ipywidgets pillow"
      ]
    },
    {
      "cell_type": "code",
      "execution_count": 5,
      "metadata": {
        "id": "IGhqVMG0u1_3"
      },
      "outputs": [
        {
          "name": "stdout",
          "output_type": "stream",
          "text": [
            "\u001b[2K\u001b[32m⠏\u001b[0m Connecting to=hpc_gpu... status=CONNECTED\n",
            "\u001b[1A\u001b[2K\u001b[2J\u001b[H"
          ]
        }
      ],
      "source": [
        "# Imports\n",
        "import torch\n",
        "from PIL import Image\n",
        "from ipywidgets import FileUpload, Button, VBox, Output, Label\n",
        "from IPython.display import display\n",
        "import io\n",
        "import os\n",
        "import time\n",
        "from transformers import AutoModel, AutoFeatureExtractor, AutoImageProcessor, ResNetForImageClassification\n",
        "from PIL import Image\n",
        "import tracemalloc\n",
        "import subprocess\n",
        "import platform\n",
        "import time\n",
        "import tracemalloc"
      ]
    },
    {
      "cell_type": "code",
      "execution_count": 6,
      "metadata": {
        "colab": {
          "base_uri": "https://localhost:8080/"
        },
        "id": "1NVYPkIvu1_4",
        "outputId": "2ff308b8-c8a2-4036-d268-46bb3b2bc78c"
      },
      "outputs": [
        {
          "name": "stdout",
          "output_type": "stream",
          "text": [
            "\u001b[2K\u001b[32m⠏\u001b[0m Connecting to=hpc_gpu... status=CONNECTED\n",
            "\u001b[1A\u001b[2K\u001b[2J\u001b[H"
          ]
        },
        {
          "data": {
            "text/html": [
              "\n",
              "                    <div style=\"\n",
              "                        color: #a71d5d;\n",
              "                        background-color: #fdd;\n",
              "                        border: 1px solid #a71d5d;\n",
              "                        padding: 5px;\n",
              "                        border-radius: 5px;\n",
              "                        font-family: Consolas, 'Courier New', monospace;\n",
              "                        white-space: pre-wrap;\n",
              "                    \">\n",
              "                        /scratch/envs/94be70b6/lib/python3.10/site-packages/transformers/models/convnext/feature_extraction_convnext.py:28: FutureWarning: The class ConvNextFeatureExtractor is deprecated and will be removed in version 5 of Transformers. Please use ConvNextImageProcessor instead.\n",
              "  warnings.warn(\n",
              "                    </div>\n",
              "                    "
            ],
            "text/plain": [
              "<IPython.core.display.HTML object>"
            ]
          },
          "metadata": {},
          "output_type": "display_data"
        },
        {
          "name": "stdout",
          "output_type": "stream",
          "text": [
            "Model and feature extractor saved successfully!\n"
          ]
        }
      ],
      "source": [
        "model_name = \"microsoft/resnet-50\"\n",
        "\n",
        "# Download model and feature extractor (if needed)\n",
        "save_directory = \"./my_local_model\"\n",
        "if not os.path.exists(save_directory):\n",
        "    model = ResNetForImageClassification.from_pretrained(model_name)  # Use the correct class\n",
        "    feature_extractor = AutoFeatureExtractor.from_pretrained(model_name)\n",
        "\n",
        "    # Save locally\n",
        "    model.save_pretrained(save_directory)\n",
        "    feature_extractor.save_pretrained(save_directory)\n",
        "    print(\"Model and feature extractor saved successfully!\")\n",
        "else:\n",
        "    # Load from saved directory\n",
        "    model = ResNetForImageClassification.from_pretrained(save_directory)\n",
        "    feature_extractor = AutoFeatureExtractor.from_pretrained(save_directory)\n",
        "    print(\"Loaded model from local directory\")\n",
        "\n",
        "# Move model to appropriate device\n",
        "device = \"cuda\" if torch.cuda.is_available() else \"cpu\"\n",
        "model = model.to(device)"
      ]
    },
    {
      "cell_type": "code",
      "execution_count": 7,
      "metadata": {
        "id": "WM18FbDru1_5"
      },
      "outputs": [
        {
          "name": "stdout",
          "output_type": "stream",
          "text": [
            "\u001b[2K\u001b[32m⠏\u001b[0m Connecting to=hpc_gpu... status=CONNECTED\n",
            "\u001b[1A\u001b[2K\u001b[2J\u001b[H"
          ]
        }
      ],
      "source": [
        "def classify_image(image, feature_extractor, model):\n",
        "    if not isinstance(image, Image.Image):\n",
        "        image = Image.open(image)\n",
        "\n",
        "    inputs = feature_extractor(image, return_tensors=\"pt\")\n",
        "    inputs = {k: v.to(device) for k, v in inputs.items()}\n",
        "\n",
        "    with torch.no_grad():\n",
        "        logits = model(**inputs).logits\n",
        "\n",
        "    predicted_label = logits.argmax(-1).item()\n",
        "    return model.config.id2label[predicted_label]"
      ]
    },
    {
      "cell_type": "code",
      "execution_count": 9,
      "metadata": {
        "colab": {
          "base_uri": "https://localhost:8080/",
          "height": 163,
          "referenced_widgets": [
            "6bd6c6f9f0f543f8bd76d784eec9de38",
            "ed795f7976ca4a0eb51b7e7fe4f77c19",
            "63e641773c7e46a6a54dd25b65b1eeba",
            "bdbfc5cf931e4396948ef6ff75f36240",
            "393688222b1443daa8f5c0a3925dae81",
            "c19fd5a315004fc081668e0d3b7d494e",
            "17b16957727e4f96a41e6cbe3d480c77",
            "8e0e6cd41ff14ad4a2c4d5c2f79515c4",
            "e98e7acc44094ce4be810f41f3908135",
            "5267e698fa854fc2b7f4f195a1c7d459",
            "70a40b5949b8433fa8d204e3b42f5f9e",
            "dfc54534266647c599d618eba87bcb6d",
            "5d6a4d90a1f04d469e922203d6a5a246",
            "637af4ae0e84468ea5bbd3929b2c74a2",
            "2e28e16f7ae2424489a07cd32067fa14",
            "16d20d72bb63463d88f2fb03345690d4"
          ]
        },
        "id": "perOeSIRu1_6",
        "outputId": "4d572d69-5c95-4079-85cf-c572630d8355"
      },
      "outputs": [
        {
          "name": "stdout",
          "output_type": "stream",
          "text": [
            "\u001b[2K\u001b[32m⠋\u001b[0m Connecting to=hpc_gpu... status=CONNECTED\n",
            "\u001b[1A\u001b[2K\u001b[2J\u001b[H"
          ]
        }
      ],
      "source": [
        "# UI Setup (multiple files accepted)\n",
        "uploader = FileUpload(accept='image/*', multiple=True)\n",
        "classify_button = Button(description=\"🚀 Classify Image\", button_style=\"success\")\n",
        "clear_output_button = Button(description=\"🧹 Clear Results\", button_style=\"warning\")\n",
        "status_label = Label(\"Upload an image and click the button!\")\n",
        "output = Output()\n",
        "\n",
        "def on_classify_clicked(b):\n",
        "    output.clear_output()\n",
        "    status_label.value = \"🧠 Thinking...\"\n",
        "\n",
        "    if uploader.value:\n",
        "        with output:\n",
        "            for file_info in uploader.value:  # Iterate over uploaded files\n",
        "                uploaded_filename = file_info[\"name\"]\n",
        "                uploaded_content = file_info[\"content\"]\n",
        "                image = Image.open(io.BytesIO(uploaded_content))\n",
        "\n",
        "                # Start timing and memory tracking for this image\n",
        "                tracemalloc.start()\n",
        "                start_time = time.time()\n",
        "\n",
        "                prediction = classify_image(image, feature_extractor, model)\n",
        "\n",
        "                # End timing and memory tracking\n",
        "                end_time = time.time()\n",
        "                current, peak = tracemalloc.get_traced_memory()\n",
        "                tracemalloc.stop()\n",
        "\n",
        "                # Display image and results\n",
        "                display(image)\n",
        "                print(f\"🧠 Predicted class for {uploaded_filename}: {prediction}\")\n",
        "                print(f\"⏱️ Inference time: {end_time - start_time:.4f} seconds\")\n",
        "                print(f\"📈 Peak memory usage: {peak / 1024 / 1024:.4f} MB\\n\")\n",
        "\n",
        "        status_label.value = \"✅ Done!\"\n",
        "    else:\n",
        "        with output:\n",
        "            print(\"❗ Please upload at least one image.\")\n",
        "        status_label.value = \"⚠️ No images uploaded.\"\n",
        "\n",
        "def on_clear_output_clicked(b):\n",
        "    uploader._counter = 0\n",
        "    output.clear_output()\n",
        "    status_label.value = \"Upload an image and click the button!\"\n",
        "    with output:\n",
        "        print(\"Results cleared\")\n",
        "\n",
        "# Connect buttons to functions\n",
        "classify_button.on_click(on_classify_clicked)\n",
        "clear_output_button.on_click(on_clear_output_clicked)\n",
        "\n",
        "# Launch app\n",
        "display(VBox([status_label, uploader, classify_button, clear_output_button, output]))\n"
      ]
    }
  ],
  "metadata": {
    "colab": {
      "provenance": []
    },
    "kernelspec": {
      "display_name": "CS-3600",
      "language": "python",
      "name": "python3"
    },
    "language_info": {
      "codemirror_mode": {
        "name": "ipython",
        "version": 3
      },
      "file_extension": ".py",
      "mimetype": "text/x-python",
      "name": "python",
      "nbconvert_exporter": "python",
      "pygments_lexer": "ipython3",
      "version": "3.10.16"
    },
    "orig_nbformat": 4,
    "widgets": {
      "application/vnd.jupyter.widget-state+json": {
        "16d20d72bb63463d88f2fb03345690d4": {
          "model_module": "@jupyter-widgets/base",
          "model_module_version": "1.2.0",
          "model_name": "LayoutModel",
          "state": {
            "_model_module": "@jupyter-widgets/base",
            "_model_module_version": "1.2.0",
            "_model_name": "LayoutModel",
            "_view_count": null,
            "_view_module": "@jupyter-widgets/base",
            "_view_module_version": "1.2.0",
            "_view_name": "LayoutView",
            "align_content": null,
            "align_items": null,
            "align_self": null,
            "border": null,
            "bottom": null,
            "display": null,
            "flex": null,
            "flex_flow": null,
            "grid_area": null,
            "grid_auto_columns": null,
            "grid_auto_flow": null,
            "grid_auto_rows": null,
            "grid_column": null,
            "grid_gap": null,
            "grid_row": null,
            "grid_template_areas": null,
            "grid_template_columns": null,
            "grid_template_rows": null,
            "height": null,
            "justify_content": null,
            "justify_items": null,
            "left": null,
            "margin": null,
            "max_height": null,
            "max_width": null,
            "min_height": null,
            "min_width": null,
            "object_fit": null,
            "object_position": null,
            "order": null,
            "overflow": null,
            "overflow_x": null,
            "overflow_y": null,
            "padding": null,
            "right": null,
            "top": null,
            "visibility": null,
            "width": null
          }
        },
        "17b16957727e4f96a41e6cbe3d480c77": {
          "model_module": "@jupyter-widgets/base",
          "model_module_version": "1.2.0",
          "model_name": "LayoutModel",
          "state": {
            "_model_module": "@jupyter-widgets/base",
            "_model_module_version": "1.2.0",
            "_model_name": "LayoutModel",
            "_view_count": null,
            "_view_module": "@jupyter-widgets/base",
            "_view_module_version": "1.2.0",
            "_view_name": "LayoutView",
            "align_content": null,
            "align_items": null,
            "align_self": null,
            "border": null,
            "bottom": null,
            "display": null,
            "flex": null,
            "flex_flow": null,
            "grid_area": null,
            "grid_auto_columns": null,
            "grid_auto_flow": null,
            "grid_auto_rows": null,
            "grid_column": null,
            "grid_gap": null,
            "grid_row": null,
            "grid_template_areas": null,
            "grid_template_columns": null,
            "grid_template_rows": null,
            "height": null,
            "justify_content": null,
            "justify_items": null,
            "left": null,
            "margin": null,
            "max_height": null,
            "max_width": null,
            "min_height": null,
            "min_width": null,
            "object_fit": null,
            "object_position": null,
            "order": null,
            "overflow": null,
            "overflow_x": null,
            "overflow_y": null,
            "padding": null,
            "right": null,
            "top": null,
            "visibility": null,
            "width": null
          }
        },
        "2e28e16f7ae2424489a07cd32067fa14": {
          "model_module": "@jupyter-widgets/controls",
          "model_module_version": "1.5.0",
          "model_name": "ButtonStyleModel",
          "state": {
            "_model_module": "@jupyter-widgets/controls",
            "_model_module_version": "1.5.0",
            "_model_name": "ButtonStyleModel",
            "_view_count": null,
            "_view_module": "@jupyter-widgets/base",
            "_view_module_version": "1.2.0",
            "_view_name": "StyleView",
            "button_color": null,
            "font_weight": ""
          }
        },
        "393688222b1443daa8f5c0a3925dae81": {
          "model_module": "@jupyter-widgets/controls",
          "model_module_version": "1.5.0",
          "model_name": "ButtonModel",
          "state": {
            "_dom_classes": [],
            "_model_module": "@jupyter-widgets/controls",
            "_model_module_version": "1.5.0",
            "_model_name": "ButtonModel",
            "_view_count": null,
            "_view_module": "@jupyter-widgets/controls",
            "_view_module_version": "1.5.0",
            "_view_name": "ButtonView",
            "button_style": "warning",
            "description": "🧹 Clear Results",
            "disabled": false,
            "icon": "",
            "layout": "IPY_MODEL_637af4ae0e84468ea5bbd3929b2c74a2",
            "style": "IPY_MODEL_2e28e16f7ae2424489a07cd32067fa14",
            "tooltip": ""
          }
        },
        "5267e698fa854fc2b7f4f195a1c7d459": {
          "model_module": "@jupyter-widgets/base",
          "model_module_version": "1.2.0",
          "model_name": "LayoutModel",
          "state": {
            "_model_module": "@jupyter-widgets/base",
            "_model_module_version": "1.2.0",
            "_model_name": "LayoutModel",
            "_view_count": null,
            "_view_module": "@jupyter-widgets/base",
            "_view_module_version": "1.2.0",
            "_view_name": "LayoutView",
            "align_content": null,
            "align_items": null,
            "align_self": null,
            "border": null,
            "bottom": null,
            "display": null,
            "flex": null,
            "flex_flow": null,
            "grid_area": null,
            "grid_auto_columns": null,
            "grid_auto_flow": null,
            "grid_auto_rows": null,
            "grid_column": null,
            "grid_gap": null,
            "grid_row": null,
            "grid_template_areas": null,
            "grid_template_columns": null,
            "grid_template_rows": null,
            "height": null,
            "justify_content": null,
            "justify_items": null,
            "left": null,
            "margin": null,
            "max_height": null,
            "max_width": null,
            "min_height": null,
            "min_width": null,
            "object_fit": null,
            "object_position": null,
            "order": null,
            "overflow": null,
            "overflow_x": null,
            "overflow_y": null,
            "padding": null,
            "right": null,
            "top": null,
            "visibility": null,
            "width": null
          }
        },
        "5d6a4d90a1f04d469e922203d6a5a246": {
          "model_module": "@jupyter-widgets/controls",
          "model_module_version": "1.5.0",
          "model_name": "ButtonStyleModel",
          "state": {
            "_model_module": "@jupyter-widgets/controls",
            "_model_module_version": "1.5.0",
            "_model_name": "ButtonStyleModel",
            "_view_count": null,
            "_view_module": "@jupyter-widgets/base",
            "_view_module_version": "1.2.0",
            "_view_name": "StyleView",
            "button_color": null,
            "font_weight": ""
          }
        },
        "637af4ae0e84468ea5bbd3929b2c74a2": {
          "model_module": "@jupyter-widgets/base",
          "model_module_version": "1.2.0",
          "model_name": "LayoutModel",
          "state": {
            "_model_module": "@jupyter-widgets/base",
            "_model_module_version": "1.2.0",
            "_model_name": "LayoutModel",
            "_view_count": null,
            "_view_module": "@jupyter-widgets/base",
            "_view_module_version": "1.2.0",
            "_view_name": "LayoutView",
            "align_content": null,
            "align_items": null,
            "align_self": null,
            "border": null,
            "bottom": null,
            "display": null,
            "flex": null,
            "flex_flow": null,
            "grid_area": null,
            "grid_auto_columns": null,
            "grid_auto_flow": null,
            "grid_auto_rows": null,
            "grid_column": null,
            "grid_gap": null,
            "grid_row": null,
            "grid_template_areas": null,
            "grid_template_columns": null,
            "grid_template_rows": null,
            "height": null,
            "justify_content": null,
            "justify_items": null,
            "left": null,
            "margin": null,
            "max_height": null,
            "max_width": null,
            "min_height": null,
            "min_width": null,
            "object_fit": null,
            "object_position": null,
            "order": null,
            "overflow": null,
            "overflow_x": null,
            "overflow_y": null,
            "padding": null,
            "right": null,
            "top": null,
            "visibility": null,
            "width": null
          }
        },
        "63e641773c7e46a6a54dd25b65b1eeba": {
          "model_module": "@jupyter-widgets/controls",
          "model_module_version": "1.5.0",
          "model_name": "FileUploadModel",
          "state": {
            "_counter": 0,
            "_dom_classes": [],
            "_model_module": "@jupyter-widgets/controls",
            "_model_module_version": "1.5.0",
            "_model_name": "FileUploadModel",
            "_view_count": null,
            "_view_module": "@jupyter-widgets/controls",
            "_view_module_version": "1.5.0",
            "_view_name": "FileUploadView",
            "accept": "image/*",
            "button_style": "",
            "data": [
              null
            ],
            "description": "Upload",
            "description_tooltip": null,
            "disabled": false,
            "error": "",
            "icon": "upload",
            "layout": "IPY_MODEL_5267e698fa854fc2b7f4f195a1c7d459",
            "metadata": [
              {
                "lastModified": 1740345308609,
                "name": "cat_15476.png",
                "size": 9212,
                "type": "image/png"
              }
            ],
            "multiple": false,
            "style": "IPY_MODEL_70a40b5949b8433fa8d204e3b42f5f9e"
          }
        },
        "6bd6c6f9f0f543f8bd76d784eec9de38": {
          "model_module": "@jupyter-widgets/controls",
          "model_module_version": "1.5.0",
          "model_name": "VBoxModel",
          "state": {
            "_dom_classes": [],
            "_model_module": "@jupyter-widgets/controls",
            "_model_module_version": "1.5.0",
            "_model_name": "VBoxModel",
            "_view_count": null,
            "_view_module": "@jupyter-widgets/controls",
            "_view_module_version": "1.5.0",
            "_view_name": "VBoxView",
            "box_style": "",
            "children": [
              "IPY_MODEL_ed795f7976ca4a0eb51b7e7fe4f77c19",
              "IPY_MODEL_63e641773c7e46a6a54dd25b65b1eeba",
              "IPY_MODEL_bdbfc5cf931e4396948ef6ff75f36240",
              "IPY_MODEL_393688222b1443daa8f5c0a3925dae81",
              "IPY_MODEL_c19fd5a315004fc081668e0d3b7d494e"
            ],
            "layout": "IPY_MODEL_17b16957727e4f96a41e6cbe3d480c77"
          }
        },
        "70a40b5949b8433fa8d204e3b42f5f9e": {
          "model_module": "@jupyter-widgets/controls",
          "model_module_version": "1.5.0",
          "model_name": "ButtonStyleModel",
          "state": {
            "_model_module": "@jupyter-widgets/controls",
            "_model_module_version": "1.5.0",
            "_model_name": "ButtonStyleModel",
            "_view_count": null,
            "_view_module": "@jupyter-widgets/base",
            "_view_module_version": "1.2.0",
            "_view_name": "StyleView",
            "button_color": null,
            "font_weight": ""
          }
        },
        "8e0e6cd41ff14ad4a2c4d5c2f79515c4": {
          "model_module": "@jupyter-widgets/base",
          "model_module_version": "1.2.0",
          "model_name": "LayoutModel",
          "state": {
            "_model_module": "@jupyter-widgets/base",
            "_model_module_version": "1.2.0",
            "_model_name": "LayoutModel",
            "_view_count": null,
            "_view_module": "@jupyter-widgets/base",
            "_view_module_version": "1.2.0",
            "_view_name": "LayoutView",
            "align_content": null,
            "align_items": null,
            "align_self": null,
            "border": null,
            "bottom": null,
            "display": null,
            "flex": null,
            "flex_flow": null,
            "grid_area": null,
            "grid_auto_columns": null,
            "grid_auto_flow": null,
            "grid_auto_rows": null,
            "grid_column": null,
            "grid_gap": null,
            "grid_row": null,
            "grid_template_areas": null,
            "grid_template_columns": null,
            "grid_template_rows": null,
            "height": null,
            "justify_content": null,
            "justify_items": null,
            "left": null,
            "margin": null,
            "max_height": null,
            "max_width": null,
            "min_height": null,
            "min_width": null,
            "object_fit": null,
            "object_position": null,
            "order": null,
            "overflow": null,
            "overflow_x": null,
            "overflow_y": null,
            "padding": null,
            "right": null,
            "top": null,
            "visibility": null,
            "width": null
          }
        },
        "bdbfc5cf931e4396948ef6ff75f36240": {
          "model_module": "@jupyter-widgets/controls",
          "model_module_version": "1.5.0",
          "model_name": "ButtonModel",
          "state": {
            "_dom_classes": [],
            "_model_module": "@jupyter-widgets/controls",
            "_model_module_version": "1.5.0",
            "_model_name": "ButtonModel",
            "_view_count": null,
            "_view_module": "@jupyter-widgets/controls",
            "_view_module_version": "1.5.0",
            "_view_name": "ButtonView",
            "button_style": "success",
            "description": "🚀 Classify Image",
            "disabled": false,
            "icon": "",
            "layout": "IPY_MODEL_dfc54534266647c599d618eba87bcb6d",
            "style": "IPY_MODEL_5d6a4d90a1f04d469e922203d6a5a246",
            "tooltip": ""
          }
        },
        "c19fd5a315004fc081668e0d3b7d494e": {
          "model_module": "@jupyter-widgets/output",
          "model_module_version": "1.0.0",
          "model_name": "OutputModel",
          "state": {
            "_dom_classes": [],
            "_model_module": "@jupyter-widgets/output",
            "_model_module_version": "1.0.0",
            "_model_name": "OutputModel",
            "_view_count": null,
            "_view_module": "@jupyter-widgets/output",
            "_view_module_version": "1.0.0",
            "_view_name": "OutputView",
            "layout": "IPY_MODEL_16d20d72bb63463d88f2fb03345690d4",
            "msg_id": "",
            "outputs": [
              {
                "name": "stdout",
                "output_type": "stream",
                "text": [
                  "Results cleared. To upload new images, you'll need to refresh the widget.\n"
                ]
              }
            ]
          }
        },
        "dfc54534266647c599d618eba87bcb6d": {
          "model_module": "@jupyter-widgets/base",
          "model_module_version": "1.2.0",
          "model_name": "LayoutModel",
          "state": {
            "_model_module": "@jupyter-widgets/base",
            "_model_module_version": "1.2.0",
            "_model_name": "LayoutModel",
            "_view_count": null,
            "_view_module": "@jupyter-widgets/base",
            "_view_module_version": "1.2.0",
            "_view_name": "LayoutView",
            "align_content": null,
            "align_items": null,
            "align_self": null,
            "border": null,
            "bottom": null,
            "display": null,
            "flex": null,
            "flex_flow": null,
            "grid_area": null,
            "grid_auto_columns": null,
            "grid_auto_flow": null,
            "grid_auto_rows": null,
            "grid_column": null,
            "grid_gap": null,
            "grid_row": null,
            "grid_template_areas": null,
            "grid_template_columns": null,
            "grid_template_rows": null,
            "height": null,
            "justify_content": null,
            "justify_items": null,
            "left": null,
            "margin": null,
            "max_height": null,
            "max_width": null,
            "min_height": null,
            "min_width": null,
            "object_fit": null,
            "object_position": null,
            "order": null,
            "overflow": null,
            "overflow_x": null,
            "overflow_y": null,
            "padding": null,
            "right": null,
            "top": null,
            "visibility": null,
            "width": null
          }
        },
        "e98e7acc44094ce4be810f41f3908135": {
          "model_module": "@jupyter-widgets/controls",
          "model_module_version": "1.5.0",
          "model_name": "DescriptionStyleModel",
          "state": {
            "_model_module": "@jupyter-widgets/controls",
            "_model_module_version": "1.5.0",
            "_model_name": "DescriptionStyleModel",
            "_view_count": null,
            "_view_module": "@jupyter-widgets/base",
            "_view_module_version": "1.2.0",
            "_view_name": "StyleView",
            "description_width": ""
          }
        },
        "ed795f7976ca4a0eb51b7e7fe4f77c19": {
          "model_module": "@jupyter-widgets/controls",
          "model_module_version": "1.5.0",
          "model_name": "LabelModel",
          "state": {
            "_dom_classes": [],
            "_model_module": "@jupyter-widgets/controls",
            "_model_module_version": "1.5.0",
            "_model_name": "LabelModel",
            "_view_count": null,
            "_view_module": "@jupyter-widgets/controls",
            "_view_module_version": "1.5.0",
            "_view_name": "LabelView",
            "description": "",
            "description_tooltip": null,
            "layout": "IPY_MODEL_8e0e6cd41ff14ad4a2c4d5c2f79515c4",
            "placeholder": "​",
            "style": "IPY_MODEL_e98e7acc44094ce4be810f41f3908135",
            "value": "Output cleared. You can upload new images or reclassify existing ones."
          }
        }
      }
    }
  },
  "nbformat": 4,
  "nbformat_minor": 0
}
