{
  "cells": [
    {
      "cell_type": "code",
      "execution_count": 1,
      "metadata": {
        "id": "9YtCnnw-u1_2"
      },
      "outputs": [],
      "source": [
        "# !pip install transformers torch ipywidgets pillow\n",
        "\n",
        "# I think cybershuttle probably has this already, but it doesn't hurt to have"
      ]
    },
    {
      "cell_type": "code",
      "execution_count": 2,
      "metadata": {
        "id": "IGhqVMG0u1_3"
      },
      "outputs": [],
      "source": [
        "# Imports\n",
        "import torch\n",
        "from PIL import Image\n",
        "from ipywidgets import FileUpload, Button, VBox, Output, Label\n",
        "from IPython.display import display\n",
        "import io\n",
        "import os\n",
        "import time\n",
        "from transformers import AutoModel, AutoFeatureExtractor, AutoImageProcessor, ResNetForImageClassification\n",
        "from PIL import Image\n",
        "import tracemalloc\n",
        "import subprocess\n",
        "import gc\n",
        "import platform"
      ]
    },
    {
      "cell_type": "code",
      "execution_count": 3,
      "metadata": {
        "colab": {
          "base_uri": "https://localhost:8080/"
        },
        "id": "1NVYPkIvu1_4",
        "outputId": "2ff308b8-c8a2-4036-d268-46bb3b2bc78c"
      },
      "outputs": [
        {
          "name": "stdout",
          "output_type": "stream",
          "text": [
            "Loaded model from local directory\n"
          ]
        },
        {
          "name": "stderr",
          "output_type": "stream",
          "text": [
            "/opt/anaconda3/envs/CS-3600/lib/python3.10/site-packages/transformers/models/convnext/feature_extraction_convnext.py:28: FutureWarning: The class ConvNextFeatureExtractor is deprecated and will be removed in version 5 of Transformers. Please use ConvNextImageProcessor instead.\n",
            "  warnings.warn(\n"
          ]
        }
      ],
      "source": [
        "model_name = \"microsoft/resnet-50\"\n",
        "\n",
        "# Download model and feature extractor (if needed)\n",
        "save_directory = \"./my_local_model\"\n",
        "if not os.path.exists(save_directory):\n",
        "    model = ResNetForImageClassification.from_pretrained(model_name)  # Use the correct class\n",
        "    feature_extractor = AutoFeatureExtractor.from_pretrained(model_name)\n",
        "\n",
        "    # Save locally\n",
        "    model.save_pretrained(save_directory)\n",
        "    feature_extractor.save_pretrained(save_directory)\n",
        "    print(\"Model and feature extractor saved successfully!\")\n",
        "else:\n",
        "    # Load from saved directory\n",
        "    model = ResNetForImageClassification.from_pretrained(save_directory)\n",
        "    feature_extractor = AutoFeatureExtractor.from_pretrained(save_directory)\n",
        "    print(\"Loaded model from local directory\")\n",
        "\n",
        "# Move model to appropriate device\n",
        "device = \"cuda\" if torch.cuda.is_available() else \"cpu\"\n",
        "model = model.to(device)"
      ]
    },
    {
      "cell_type": "code",
      "execution_count": 4,
      "metadata": {
        "id": "v6E9Swt8u1_5"
      },
      "outputs": [],
      "source": [
        "# # Load model and processor (only once for optimization purposes)\n",
        "# processor = AutoImageProcessor.from_pretrained(\"./my_local_model\")\n",
        "# model = ResNetForImageClassification.from_pretrained(\"./my_local_model\")\n",
        "\n",
        "# device = \"cuda\" if torch.cuda.is_available() else \"cpu\"\n",
        "# model = model.to(device)"
      ]
    },
    {
      "cell_type": "code",
      "execution_count": 5,
      "metadata": {
        "id": "WM18FbDru1_5"
      },
      "outputs": [],
      "source": [
        "def classify_image(image, feature_extractor, model):\n",
        "    if not isinstance(image, Image.Image):\n",
        "        image = Image.open(image)\n",
        "\n",
        "    inputs = feature_extractor(image, return_tensors=\"pt\")\n",
        "    inputs = {k: v.to(device) for k, v in inputs.items()}\n",
        "\n",
        "    with torch.no_grad():\n",
        "        logits = model(**inputs).logits\n",
        "\n",
        "    predicted_label = logits.argmax(-1).item()\n",
        "    return model.config.id2label[predicted_label]"
      ]
    },
    {
      "cell_type": "code",
      "execution_count": 6,
      "metadata": {
        "colab": {
          "base_uri": "https://localhost:8080/",
          "height": 163,
          "referenced_widgets": [
            "6bd6c6f9f0f543f8bd76d784eec9de38",
            "ed795f7976ca4a0eb51b7e7fe4f77c19",
            "63e641773c7e46a6a54dd25b65b1eeba",
            "bdbfc5cf931e4396948ef6ff75f36240",
            "393688222b1443daa8f5c0a3925dae81",
            "c19fd5a315004fc081668e0d3b7d494e",
            "17b16957727e4f96a41e6cbe3d480c77",
            "8e0e6cd41ff14ad4a2c4d5c2f79515c4",
            "e98e7acc44094ce4be810f41f3908135",
            "5267e698fa854fc2b7f4f195a1c7d459",
            "70a40b5949b8433fa8d204e3b42f5f9e",
            "dfc54534266647c599d618eba87bcb6d",
            "5d6a4d90a1f04d469e922203d6a5a246",
            "637af4ae0e84468ea5bbd3929b2c74a2",
            "2e28e16f7ae2424489a07cd32067fa14",
            "16d20d72bb63463d88f2fb03345690d4"
          ]
        },
        "id": "perOeSIRu1_6",
        "outputId": "4d572d69-5c95-4079-85cf-c572630d8355"
      },
      "outputs": [
        {
          "data": {
            "application/vnd.jupyter.widget-view+json": {
              "model_id": "7ac373dde02846b4b241b00440fc21ec",
              "version_major": 2,
              "version_minor": 0
            },
            "text/plain": [
              "VBox(children=(Label(value='Upload an image and click the button!'), FileUpload(value=(), accept='image/*', de…"
            ]
          },
          "metadata": {},
          "output_type": "display_data"
        }
      ],
      "source": [
        "import time\n",
        "import tracemalloc\n",
        "from PIL import Image\n",
        "import io\n",
        "from ipywidgets import FileUpload, Button, Label, Output, VBox\n",
        "from IPython.display import display\n",
        "\n",
        "# UI Setup (multiple files accepted)\n",
        "uploader = FileUpload(accept='image/*', multiple=True)\n",
        "classify_button = Button(description=\"🚀 Classify Image\", button_style=\"success\")\n",
        "clear_output_button = Button(description=\"🧹 Clear Results\", button_style=\"warning\")\n",
        "status_label = Label(\"Upload an image and click the button!\")\n",
        "output = Output()\n",
        "\n",
        "def on_classify_clicked(b):\n",
        "    output.clear_output()\n",
        "    status_label.value = \"🧠 Thinking...\"\n",
        "\n",
        "    if uploader.value:\n",
        "        with output:\n",
        "            for file_info in uploader.value:  # Iterate over uploaded files\n",
        "                uploaded_filename = file_info[\"name\"]\n",
        "                uploaded_content = file_info[\"content\"]\n",
        "                image = Image.open(io.BytesIO(uploaded_content))\n",
        "\n",
        "                # Start timing and memory tracking for this image\n",
        "                tracemalloc.start()\n",
        "                start_time = time.time()\n",
        "\n",
        "                prediction = classify_image(image, feature_extractor, model)\n",
        "\n",
        "                # End timing and memory tracking\n",
        "                end_time = time.time()\n",
        "                current, peak = tracemalloc.get_traced_memory()\n",
        "                tracemalloc.stop()\n",
        "\n",
        "                # Display image and results\n",
        "                display(image)\n",
        "                print(f\"🧠 Predicted class for {uploaded_filename}: {prediction}\")\n",
        "                print(f\"⏱️ Inference time: {end_time - start_time:.4f} seconds\")\n",
        "                print(f\"📈 Peak memory usage: {peak / 1024 / 1024:.4f} MB\\n\")\n",
        "\n",
        "        status_label.value = \"✅ Done!\"\n",
        "    else:\n",
        "        with output:\n",
        "            print(\"❗ Please upload at least one image.\")\n",
        "        status_label.value = \"⚠️ No images uploaded.\"\n",
        "\n",
        "def on_clear_output_clicked(b):\n",
        "    uploader._counter = 0\n",
        "    output.clear_output()\n",
        "    status_label.value = \"Upload an image and click the button!\"\n",
        "    with output:\n",
        "        print(\"Results cleared\")\n",
        "\n",
        "# Connect buttons to functions\n",
        "classify_button.on_click(on_classify_clicked)\n",
        "clear_output_button.on_click(on_clear_output_clicked)\n",
        "\n",
        "# Launch app\n",
        "display(VBox([status_label, uploader, classify_button, clear_output_button, output]))\n"
      ]
    }
  ],
  "metadata": {
    "colab": {
      "provenance": []
    },
    "kernelspec": {
      "display_name": "CS-3600",
      "language": "python",
      "name": "cs-3600"
    },
    "language_info": {
      "codemirror_mode": {
        "name": "ipython",
        "version": 3
      },
      "file_extension": ".py",
      "mimetype": "text/x-python",
      "name": "python",
      "nbconvert_exporter": "python",
      "pygments_lexer": "ipython3",
      "version": "3.10.16"
    },
    "orig_nbformat": 4,
    "widgets": {
      "application/vnd.jupyter.widget-state+json": {
        "16d20d72bb63463d88f2fb03345690d4": {
          "model_module": "@jupyter-widgets/base",
          "model_module_version": "1.2.0",
          "model_name": "LayoutModel",
          "state": {
            "_model_module": "@jupyter-widgets/base",
            "_model_module_version": "1.2.0",
            "_model_name": "LayoutModel",
            "_view_count": null,
            "_view_module": "@jupyter-widgets/base",
            "_view_module_version": "1.2.0",
            "_view_name": "LayoutView",
            "align_content": null,
            "align_items": null,
            "align_self": null,
            "border": null,
            "bottom": null,
            "display": null,
            "flex": null,
            "flex_flow": null,
            "grid_area": null,
            "grid_auto_columns": null,
            "grid_auto_flow": null,
            "grid_auto_rows": null,
            "grid_column": null,
            "grid_gap": null,
            "grid_row": null,
            "grid_template_areas": null,
            "grid_template_columns": null,
            "grid_template_rows": null,
            "height": null,
            "justify_content": null,
            "justify_items": null,
            "left": null,
            "margin": null,
            "max_height": null,
            "max_width": null,
            "min_height": null,
            "min_width": null,
            "object_fit": null,
            "object_position": null,
            "order": null,
            "overflow": null,
            "overflow_x": null,
            "overflow_y": null,
            "padding": null,
            "right": null,
            "top": null,
            "visibility": null,
            "width": null
          }
        },
        "17b16957727e4f96a41e6cbe3d480c77": {
          "model_module": "@jupyter-widgets/base",
          "model_module_version": "1.2.0",
          "model_name": "LayoutModel",
          "state": {
            "_model_module": "@jupyter-widgets/base",
            "_model_module_version": "1.2.0",
            "_model_name": "LayoutModel",
            "_view_count": null,
            "_view_module": "@jupyter-widgets/base",
            "_view_module_version": "1.2.0",
            "_view_name": "LayoutView",
            "align_content": null,
            "align_items": null,
            "align_self": null,
            "border": null,
            "bottom": null,
            "display": null,
            "flex": null,
            "flex_flow": null,
            "grid_area": null,
            "grid_auto_columns": null,
            "grid_auto_flow": null,
            "grid_auto_rows": null,
            "grid_column": null,
            "grid_gap": null,
            "grid_row": null,
            "grid_template_areas": null,
            "grid_template_columns": null,
            "grid_template_rows": null,
            "height": null,
            "justify_content": null,
            "justify_items": null,
            "left": null,
            "margin": null,
            "max_height": null,
            "max_width": null,
            "min_height": null,
            "min_width": null,
            "object_fit": null,
            "object_position": null,
            "order": null,
            "overflow": null,
            "overflow_x": null,
            "overflow_y": null,
            "padding": null,
            "right": null,
            "top": null,
            "visibility": null,
            "width": null
          }
        },
        "2e28e16f7ae2424489a07cd32067fa14": {
          "model_module": "@jupyter-widgets/controls",
          "model_module_version": "1.5.0",
          "model_name": "ButtonStyleModel",
          "state": {
            "_model_module": "@jupyter-widgets/controls",
            "_model_module_version": "1.5.0",
            "_model_name": "ButtonStyleModel",
            "_view_count": null,
            "_view_module": "@jupyter-widgets/base",
            "_view_module_version": "1.2.0",
            "_view_name": "StyleView",
            "button_color": null,
            "font_weight": ""
          }
        },
        "393688222b1443daa8f5c0a3925dae81": {
          "model_module": "@jupyter-widgets/controls",
          "model_module_version": "1.5.0",
          "model_name": "ButtonModel",
          "state": {
            "_dom_classes": [],
            "_model_module": "@jupyter-widgets/controls",
            "_model_module_version": "1.5.0",
            "_model_name": "ButtonModel",
            "_view_count": null,
            "_view_module": "@jupyter-widgets/controls",
            "_view_module_version": "1.5.0",
            "_view_name": "ButtonView",
            "button_style": "warning",
            "description": "🧹 Clear Results",
            "disabled": false,
            "icon": "",
            "layout": "IPY_MODEL_637af4ae0e84468ea5bbd3929b2c74a2",
            "style": "IPY_MODEL_2e28e16f7ae2424489a07cd32067fa14",
            "tooltip": ""
          }
        },
        "5267e698fa854fc2b7f4f195a1c7d459": {
          "model_module": "@jupyter-widgets/base",
          "model_module_version": "1.2.0",
          "model_name": "LayoutModel",
          "state": {
            "_model_module": "@jupyter-widgets/base",
            "_model_module_version": "1.2.0",
            "_model_name": "LayoutModel",
            "_view_count": null,
            "_view_module": "@jupyter-widgets/base",
            "_view_module_version": "1.2.0",
            "_view_name": "LayoutView",
            "align_content": null,
            "align_items": null,
            "align_self": null,
            "border": null,
            "bottom": null,
            "display": null,
            "flex": null,
            "flex_flow": null,
            "grid_area": null,
            "grid_auto_columns": null,
            "grid_auto_flow": null,
            "grid_auto_rows": null,
            "grid_column": null,
            "grid_gap": null,
            "grid_row": null,
            "grid_template_areas": null,
            "grid_template_columns": null,
            "grid_template_rows": null,
            "height": null,
            "justify_content": null,
            "justify_items": null,
            "left": null,
            "margin": null,
            "max_height": null,
            "max_width": null,
            "min_height": null,
            "min_width": null,
            "object_fit": null,
            "object_position": null,
            "order": null,
            "overflow": null,
            "overflow_x": null,
            "overflow_y": null,
            "padding": null,
            "right": null,
            "top": null,
            "visibility": null,
            "width": null
          }
        },
        "5d6a4d90a1f04d469e922203d6a5a246": {
          "model_module": "@jupyter-widgets/controls",
          "model_module_version": "1.5.0",
          "model_name": "ButtonStyleModel",
          "state": {
            "_model_module": "@jupyter-widgets/controls",
            "_model_module_version": "1.5.0",
            "_model_name": "ButtonStyleModel",
            "_view_count": null,
            "_view_module": "@jupyter-widgets/base",
            "_view_module_version": "1.2.0",
            "_view_name": "StyleView",
            "button_color": null,
            "font_weight": ""
          }
        },
        "637af4ae0e84468ea5bbd3929b2c74a2": {
          "model_module": "@jupyter-widgets/base",
          "model_module_version": "1.2.0",
          "model_name": "LayoutModel",
          "state": {
            "_model_module": "@jupyter-widgets/base",
            "_model_module_version": "1.2.0",
            "_model_name": "LayoutModel",
            "_view_count": null,
            "_view_module": "@jupyter-widgets/base",
            "_view_module_version": "1.2.0",
            "_view_name": "LayoutView",
            "align_content": null,
            "align_items": null,
            "align_self": null,
            "border": null,
            "bottom": null,
            "display": null,
            "flex": null,
            "flex_flow": null,
            "grid_area": null,
            "grid_auto_columns": null,
            "grid_auto_flow": null,
            "grid_auto_rows": null,
            "grid_column": null,
            "grid_gap": null,
            "grid_row": null,
            "grid_template_areas": null,
            "grid_template_columns": null,
            "grid_template_rows": null,
            "height": null,
            "justify_content": null,
            "justify_items": null,
            "left": null,
            "margin": null,
            "max_height": null,
            "max_width": null,
            "min_height": null,
            "min_width": null,
            "object_fit": null,
            "object_position": null,
            "order": null,
            "overflow": null,
            "overflow_x": null,
            "overflow_y": null,
            "padding": null,
            "right": null,
            "top": null,
            "visibility": null,
            "width": null
          }
        },
        "63e641773c7e46a6a54dd25b65b1eeba": {
          "model_module": "@jupyter-widgets/controls",
          "model_module_version": "1.5.0",
          "model_name": "FileUploadModel",
          "state": {
            "_counter": 0,
            "_dom_classes": [],
            "_model_module": "@jupyter-widgets/controls",
            "_model_module_version": "1.5.0",
            "_model_name": "FileUploadModel",
            "_view_count": null,
            "_view_module": "@jupyter-widgets/controls",
            "_view_module_version": "1.5.0",
            "_view_name": "FileUploadView",
            "accept": "image/*",
            "button_style": "",
            "data": [
              null
            ],
            "description": "Upload",
            "description_tooltip": null,
            "disabled": false,
            "error": "",
            "icon": "upload",
            "layout": "IPY_MODEL_5267e698fa854fc2b7f4f195a1c7d459",
            "metadata": [
              {
                "lastModified": 1740345308609,
                "name": "cat_15476.png",
                "size": 9212,
                "type": "image/png"
              }
            ],
            "multiple": false,
            "style": "IPY_MODEL_70a40b5949b8433fa8d204e3b42f5f9e"
          }
        },
        "6bd6c6f9f0f543f8bd76d784eec9de38": {
          "model_module": "@jupyter-widgets/controls",
          "model_module_version": "1.5.0",
          "model_name": "VBoxModel",
          "state": {
            "_dom_classes": [],
            "_model_module": "@jupyter-widgets/controls",
            "_model_module_version": "1.5.0",
            "_model_name": "VBoxModel",
            "_view_count": null,
            "_view_module": "@jupyter-widgets/controls",
            "_view_module_version": "1.5.0",
            "_view_name": "VBoxView",
            "box_style": "",
            "children": [
              "IPY_MODEL_ed795f7976ca4a0eb51b7e7fe4f77c19",
              "IPY_MODEL_63e641773c7e46a6a54dd25b65b1eeba",
              "IPY_MODEL_bdbfc5cf931e4396948ef6ff75f36240",
              "IPY_MODEL_393688222b1443daa8f5c0a3925dae81",
              "IPY_MODEL_c19fd5a315004fc081668e0d3b7d494e"
            ],
            "layout": "IPY_MODEL_17b16957727e4f96a41e6cbe3d480c77"
          }
        },
        "70a40b5949b8433fa8d204e3b42f5f9e": {
          "model_module": "@jupyter-widgets/controls",
          "model_module_version": "1.5.0",
          "model_name": "ButtonStyleModel",
          "state": {
            "_model_module": "@jupyter-widgets/controls",
            "_model_module_version": "1.5.0",
            "_model_name": "ButtonStyleModel",
            "_view_count": null,
            "_view_module": "@jupyter-widgets/base",
            "_view_module_version": "1.2.0",
            "_view_name": "StyleView",
            "button_color": null,
            "font_weight": ""
          }
        },
        "8e0e6cd41ff14ad4a2c4d5c2f79515c4": {
          "model_module": "@jupyter-widgets/base",
          "model_module_version": "1.2.0",
          "model_name": "LayoutModel",
          "state": {
            "_model_module": "@jupyter-widgets/base",
            "_model_module_version": "1.2.0",
            "_model_name": "LayoutModel",
            "_view_count": null,
            "_view_module": "@jupyter-widgets/base",
            "_view_module_version": "1.2.0",
            "_view_name": "LayoutView",
            "align_content": null,
            "align_items": null,
            "align_self": null,
            "border": null,
            "bottom": null,
            "display": null,
            "flex": null,
            "flex_flow": null,
            "grid_area": null,
            "grid_auto_columns": null,
            "grid_auto_flow": null,
            "grid_auto_rows": null,
            "grid_column": null,
            "grid_gap": null,
            "grid_row": null,
            "grid_template_areas": null,
            "grid_template_columns": null,
            "grid_template_rows": null,
            "height": null,
            "justify_content": null,
            "justify_items": null,
            "left": null,
            "margin": null,
            "max_height": null,
            "max_width": null,
            "min_height": null,
            "min_width": null,
            "object_fit": null,
            "object_position": null,
            "order": null,
            "overflow": null,
            "overflow_x": null,
            "overflow_y": null,
            "padding": null,
            "right": null,
            "top": null,
            "visibility": null,
            "width": null
          }
        },
        "bdbfc5cf931e4396948ef6ff75f36240": {
          "model_module": "@jupyter-widgets/controls",
          "model_module_version": "1.5.0",
          "model_name": "ButtonModel",
          "state": {
            "_dom_classes": [],
            "_model_module": "@jupyter-widgets/controls",
            "_model_module_version": "1.5.0",
            "_model_name": "ButtonModel",
            "_view_count": null,
            "_view_module": "@jupyter-widgets/controls",
            "_view_module_version": "1.5.0",
            "_view_name": "ButtonView",
            "button_style": "success",
            "description": "🚀 Classify Image",
            "disabled": false,
            "icon": "",
            "layout": "IPY_MODEL_dfc54534266647c599d618eba87bcb6d",
            "style": "IPY_MODEL_5d6a4d90a1f04d469e922203d6a5a246",
            "tooltip": ""
          }
        },
        "c19fd5a315004fc081668e0d3b7d494e": {
          "model_module": "@jupyter-widgets/output",
          "model_module_version": "1.0.0",
          "model_name": "OutputModel",
          "state": {
            "_dom_classes": [],
            "_model_module": "@jupyter-widgets/output",
            "_model_module_version": "1.0.0",
            "_model_name": "OutputModel",
            "_view_count": null,
            "_view_module": "@jupyter-widgets/output",
            "_view_module_version": "1.0.0",
            "_view_name": "OutputView",
            "layout": "IPY_MODEL_16d20d72bb63463d88f2fb03345690d4",
            "msg_id": "",
            "outputs": [
              {
                "name": "stdout",
                "output_type": "stream",
                "text": [
                  "Results cleared. To upload new images, you'll need to refresh the widget.\n"
                ]
              }
            ]
          }
        },
        "dfc54534266647c599d618eba87bcb6d": {
          "model_module": "@jupyter-widgets/base",
          "model_module_version": "1.2.0",
          "model_name": "LayoutModel",
          "state": {
            "_model_module": "@jupyter-widgets/base",
            "_model_module_version": "1.2.0",
            "_model_name": "LayoutModel",
            "_view_count": null,
            "_view_module": "@jupyter-widgets/base",
            "_view_module_version": "1.2.0",
            "_view_name": "LayoutView",
            "align_content": null,
            "align_items": null,
            "align_self": null,
            "border": null,
            "bottom": null,
            "display": null,
            "flex": null,
            "flex_flow": null,
            "grid_area": null,
            "grid_auto_columns": null,
            "grid_auto_flow": null,
            "grid_auto_rows": null,
            "grid_column": null,
            "grid_gap": null,
            "grid_row": null,
            "grid_template_areas": null,
            "grid_template_columns": null,
            "grid_template_rows": null,
            "height": null,
            "justify_content": null,
            "justify_items": null,
            "left": null,
            "margin": null,
            "max_height": null,
            "max_width": null,
            "min_height": null,
            "min_width": null,
            "object_fit": null,
            "object_position": null,
            "order": null,
            "overflow": null,
            "overflow_x": null,
            "overflow_y": null,
            "padding": null,
            "right": null,
            "top": null,
            "visibility": null,
            "width": null
          }
        },
        "e98e7acc44094ce4be810f41f3908135": {
          "model_module": "@jupyter-widgets/controls",
          "model_module_version": "1.5.0",
          "model_name": "DescriptionStyleModel",
          "state": {
            "_model_module": "@jupyter-widgets/controls",
            "_model_module_version": "1.5.0",
            "_model_name": "DescriptionStyleModel",
            "_view_count": null,
            "_view_module": "@jupyter-widgets/base",
            "_view_module_version": "1.2.0",
            "_view_name": "StyleView",
            "description_width": ""
          }
        },
        "ed795f7976ca4a0eb51b7e7fe4f77c19": {
          "model_module": "@jupyter-widgets/controls",
          "model_module_version": "1.5.0",
          "model_name": "LabelModel",
          "state": {
            "_dom_classes": [],
            "_model_module": "@jupyter-widgets/controls",
            "_model_module_version": "1.5.0",
            "_model_name": "LabelModel",
            "_view_count": null,
            "_view_module": "@jupyter-widgets/controls",
            "_view_module_version": "1.5.0",
            "_view_name": "LabelView",
            "description": "",
            "description_tooltip": null,
            "layout": "IPY_MODEL_8e0e6cd41ff14ad4a2c4d5c2f79515c4",
            "placeholder": "​",
            "style": "IPY_MODEL_e98e7acc44094ce4be810f41f3908135",
            "value": "Output cleared. You can upload new images or reclassify existing ones."
          }
        }
      }
    }
  },
  "nbformat": 4,
  "nbformat_minor": 0
}
