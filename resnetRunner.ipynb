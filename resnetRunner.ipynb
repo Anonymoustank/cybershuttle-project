{
 "cells": [
  {
   "cell_type": "code",
   "execution_count": null,
   "metadata": {},
   "outputs": [
    {
     "ename": "",
     "evalue": "",
     "output_type": "error",
     "traceback": [
      "\u001b[1;31mRunning cells with 'base' requires the ipykernel package.\n",
      "\u001b[1;31mRun the following command to install 'ipykernel' into the Python environment. \n",
      "\u001b[1;31mCommand: 'conda install -n base ipykernel --update-deps --force-reinstall'"
     ]
    }
   ],
   "source": [
    "# !pip install transformers torch ipywidgets pillow\n",
    "\n",
    "# I think cybershuttle probably has this already, but it doesn't hurt to have"
   ]
  },
  {
   "cell_type": "code",
   "execution_count": null,
   "metadata": {},
   "outputs": [
    {
     "ename": "",
     "evalue": "",
     "output_type": "error",
     "traceback": [
      "\u001b[1;31mRunning cells with 'base' requires the ipykernel package.\n",
      "\u001b[1;31mRun the following command to install 'ipykernel' into the Python environment. \n",
      "\u001b[1;31mCommand: 'conda install -n base ipykernel --update-deps --force-reinstall'"
     ]
    }
   ],
   "source": [
    "# Imports\n",
    "import torch\n",
    "from transformers import AutoImageProcessor, ResNetForImageClassification\n",
    "from PIL import Image\n",
    "from ipywidgets import FileUpload, Button, VBox, Output, Label\n",
    "from IPython.display import display\n",
    "import io\n",
    "import os"
   ]
  },
  {
   "cell_type": "code",
   "execution_count": null,
   "metadata": {},
   "outputs": [
    {
     "ename": "",
     "evalue": "",
     "output_type": "error",
     "traceback": [
      "\u001b[1;31mRunning cells with 'base' requires the ipykernel package.\n",
      "\u001b[1;31mRun the following command to install 'ipykernel' into the Python environment. \n",
      "\u001b[1;31mCommand: 'conda install -n base ipykernel --update-deps --force-reinstall'"
     ]
    }
   ],
   "source": [
    "# Load model and processor (only once for optimization purposes)\n",
    "processor = AutoImageProcessor.from_pretrained(\"./my_local_model\")\n",
    "model = ResNetForImageClassification.from_pretrained(\"./my_local_model\")\n",
    "\n",
    "device = \"cuda\" if torch.cuda.is_available() else \"cpu\"\n",
    "model = model.to(device)"
   ]
  },
  {
   "cell_type": "code",
   "execution_count": null,
   "metadata": {},
   "outputs": [
    {
     "ename": "",
     "evalue": "",
     "output_type": "error",
     "traceback": [
      "\u001b[1;31mRunning cells with 'base' requires the ipykernel package.\n",
      "\u001b[1;31mRun the following command to install 'ipykernel' into the Python environment. \n",
      "\u001b[1;31mCommand: 'conda install -n base ipykernel --update-deps --force-reinstall'"
     ]
    }
   ],
   "source": [
    "def classify_image(image, processor, model):\n",
    "    if not isinstance(image, Image.Image):\n",
    "        image = Image.open(image)\n",
    "\n",
    "    inputs = processor(image, return_tensors=\"pt\")\n",
    "    inputs = {k: v.to(device) for k, v in inputs.items()}\n",
    "\n",
    "    with torch.no_grad():\n",
    "        logits = model(**inputs).logits\n",
    "\n",
    "    predicted_label = logits.argmax(-1).item()\n",
    "    return model.config.id2label[predicted_label]"
   ]
  },
  {
   "cell_type": "code",
   "execution_count": null,
   "metadata": {},
   "outputs": [
    {
     "ename": "",
     "evalue": "",
     "output_type": "error",
     "traceback": [
      "\u001b[1;31mRunning cells with 'base' requires the ipykernel package.\n",
      "\u001b[1;31mRun the following command to install 'ipykernel' into the Python environment. \n",
      "\u001b[1;31mCommand: 'conda install -n base ipykernel --update-deps --force-reinstall'"
     ]
    }
   ],
   "source": [
    "# UI Setup (multiple files accepted)\n",
    "uploader = FileUpload(accept='image/*', multiple=True)\n",
    "classify_button = Button(description=\"🚀 Classify Image\", button_style=\"success\")\n",
    "status_label = Label(\"Upload an image and click the button!\")\n",
    "output = Output()\n",
    "\n",
    "# Button logic with \"Thinking...\" status\n",
    "def on_classify_clicked(b):\n",
    "    output.clear_output()\n",
    "    status_label.value = \"🧠 Thinking...\"\n",
    "    \n",
    "    # Loop through all images uploaded\n",
    "    if uploader.value: \n",
    "        with output:\n",
    "            for uploaded_filename in uploader.value:\n",
    "                uploaded_content = uploader.value[uploaded_filename]['content']\n",
    "                image = Image.open(io.BytesIO(uploaded_content))\n",
    "\n",
    "                prediction = classify_image(image, processor, model)\n",
    "\n",
    "                display(image)\n",
    "                print(f\"🧠 Predicted class for {uploaded_filename}: {prediction}\")\n",
    "        \n",
    "        status_label.value = \"✅ Done!\"\n",
    "    else:\n",
    "        with output:\n",
    "            print(\"❗ Please upload at least one image.\")\n",
    "        status_label.value = \"⚠️ No images uploaded.\"\n",
    "\n",
    "classify_button.on_click(on_classify_clicked)\n"
   ]
  },
  {
   "cell_type": "code",
   "execution_count": null,
   "metadata": {},
   "outputs": [
    {
     "ename": "",
     "evalue": "",
     "output_type": "error",
     "traceback": [
      "\u001b[1;31mRunning cells with 'base' requires the ipykernel package.\n",
      "\u001b[1;31mRun the following command to install 'ipykernel' into the Python environment. \n",
      "\u001b[1;31mCommand: 'conda install -n base ipykernel --update-deps --force-reinstall'"
     ]
    }
   ],
   "source": [
    "# Launch app\n",
    "display(VBox([status_label, uploader, classify_button, output]))"
   ]
  }
 ],
 "metadata": {
  "kernelspec": {
   "display_name": "base",
   "language": "python",
   "name": "python3"
  },
  "language_info": {
   "name": "python",
   "version": "3.12.8"
  },
  "orig_nbformat": 4
 },
 "nbformat": 4,
 "nbformat_minor": 2
}
