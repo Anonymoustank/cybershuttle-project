{
 "cells": [
  {
   "cell_type": "code",
   "execution_count": 1,
   "id": "85372c98",
   "metadata": {},
   "outputs": [
    {
     "data": {
      "application/vnd.jupyter.widget-view+json": {
       "model_id": "9ac64510ead640b38d9690b863f4f067",
       "version_major": 2,
       "version_minor": 0
      },
      "text/plain": [
       "Label(value='⏳ Waiting for file upload...')"
      ]
     },
     "metadata": {},
     "output_type": "display_data"
    },
    {
     "data": {
      "application/vnd.jupyter.widget-view+json": {
       "model_id": "3e0ed1e079cd4e5c840dc4b17a899911",
       "version_major": 2,
       "version_minor": 0
      },
      "text/plain": [
       "FileUpload(value=(), description='Upload')"
      ]
     },
     "metadata": {},
     "output_type": "display_data"
    }
   ],
   "source": [
    "from ipywidgets import FileUpload\n",
    "from IPython.display import display\n",
    "import io\n",
    "\n",
    "uploader = FileUpload(accept='image/*', multiple=False)\n",
    "display(uploader)\n"
   ]
  },
  {
   "cell_type": "code",
   "execution_count": null,
   "id": "e508565a",
   "metadata": {},
   "outputs": [],
   "source": [
    "username = \"pkadekodi3\" # replace with your own username\n",
    "remote_host = \"login-ice.pace.gatech.edu\" # don't change this!\n",
    "remote_path = \"/home/hice1/pkadekodi3/cybershuttle_project\" # replace \"gburdell3\" with your own username\n",
    "\n",
    "local_model_path = \"./my_local_model\" # don't change this!"
   ]
  },
  {
   "cell_type": "code",
   "execution_count": null,
   "id": "0196eb65",
   "metadata": {},
   "outputs": [
    {
     "name": "stdout",
     "output_type": "stream",
     "text": [
      "❗ No file uploaded. Please upload an image first.\n"
     ]
    }
   ],
   "source": [
    "# Save uploaded file\n",
    "if uploader.value:\n",
    "    uploaded_file = uploader.value[0]   # Get the first uploaded file (dictionary inside tuple)\n",
    "    uploaded_filename = uploaded_file['name']\n",
    "    uploaded_content = uploaded_file['content']\n",
    "    \n",
    "    # Save the uploaded content\n",
    "    with open('input.png', 'wb') as f:\n",
    "        f.write(uploaded_content)\n",
    "    \n",
    "    print(f\"✅ File '{uploaded_filename}' saved as 'input.png'\")\n",
    "else:\n",
    "    print(\"❗ No file uploaded. Please upload an image first.\")\n"
   ]
  },
  {
   "cell_type": "code",
   "execution_count": null,
   "id": "12dcbdda",
   "metadata": {},
   "outputs": [
    {
     "name": "stdout",
     "output_type": "stream",
     "text": [
      "🔍 Checking if local model folder exists at ./my_local_model...\n",
      "✅ Local model folder already exists. Skipping download.\n",
      "🔍 Checking if project folder exists at /home/hice1/pkadekodi3/cybershuttle_project...\n"
     ]
    },
    {
     "ename": "KeyboardInterrupt",
     "evalue": "",
     "output_type": "error",
     "traceback": [
      "\u001b[0;31m---------------------------------------------------------------------------\u001b[0m",
      "\u001b[0;31mKeyboardInterrupt\u001b[0m                         Traceback (most recent call last)",
      "Cell \u001b[0;32mIn[4], line 27\u001b[0m\n\u001b[1;32m     24\u001b[0m \u001b[39m# Step 1: Check if cybershuttle_project/ exists\u001b[39;00m\n\u001b[1;32m     25\u001b[0m \u001b[39mprint\u001b[39m(\u001b[39mf\u001b[39m\u001b[39m\"\u001b[39m\u001b[39m🔍 Checking if project folder exists at \u001b[39m\u001b[39m{\u001b[39;00mremote_path\u001b[39m}\u001b[39;00m\u001b[39m...\u001b[39m\u001b[39m\"\u001b[39m)\n\u001b[0;32m---> 27\u001b[0m check_project \u001b[39m=\u001b[39m subprocess\u001b[39m.\u001b[39;49mrun(\n\u001b[1;32m     28\u001b[0m     [\u001b[39m\"\u001b[39;49m\u001b[39mssh\u001b[39;49m\u001b[39m\"\u001b[39;49m, \u001b[39mf\u001b[39;49m\u001b[39m\"\u001b[39;49m\u001b[39m{\u001b[39;49;00musername\u001b[39m}\u001b[39;49;00m\u001b[39m@\u001b[39;49m\u001b[39m{\u001b[39;49;00mremote_host\u001b[39m}\u001b[39;49;00m\u001b[39m\"\u001b[39;49m, \u001b[39mf\u001b[39;49m\u001b[39m\"\u001b[39;49m\u001b[39mtest -d \u001b[39;49m\u001b[39m{\u001b[39;49;00mremote_path\u001b[39m}\u001b[39;49;00m\u001b[39m\"\u001b[39;49m],\n\u001b[1;32m     29\u001b[0m     capture_output\u001b[39m=\u001b[39;49m\u001b[39mTrue\u001b[39;49;00m\n\u001b[1;32m     30\u001b[0m )\n\u001b[1;32m     32\u001b[0m \u001b[39mif\u001b[39;00m check_project\u001b[39m.\u001b[39mreturncode \u001b[39m!=\u001b[39m \u001b[39m0\u001b[39m:\n\u001b[1;32m     33\u001b[0m     \u001b[39mprint\u001b[39m(\u001b[39m\"\u001b[39m\u001b[39m⚡ Project folder not found. Creating...\u001b[39m\u001b[39m\"\u001b[39m)\n",
      "File \u001b[0;32m~/miniconda3/envs/CS-3600/lib/python3.10/subprocess.py:505\u001b[0m, in \u001b[0;36mrun\u001b[0;34m(input, capture_output, timeout, check, *popenargs, **kwargs)\u001b[0m\n\u001b[1;32m    503\u001b[0m \u001b[39mwith\u001b[39;00m Popen(\u001b[39m*\u001b[39mpopenargs, \u001b[39m*\u001b[39m\u001b[39m*\u001b[39mkwargs) \u001b[39mas\u001b[39;00m process:\n\u001b[1;32m    504\u001b[0m     \u001b[39mtry\u001b[39;00m:\n\u001b[0;32m--> 505\u001b[0m         stdout, stderr \u001b[39m=\u001b[39m process\u001b[39m.\u001b[39;49mcommunicate(\u001b[39minput\u001b[39;49m, timeout\u001b[39m=\u001b[39;49mtimeout)\n\u001b[1;32m    506\u001b[0m     \u001b[39mexcept\u001b[39;00m TimeoutExpired \u001b[39mas\u001b[39;00m exc:\n\u001b[1;32m    507\u001b[0m         process\u001b[39m.\u001b[39mkill()\n",
      "File \u001b[0;32m~/miniconda3/envs/CS-3600/lib/python3.10/subprocess.py:1154\u001b[0m, in \u001b[0;36mPopen.communicate\u001b[0;34m(self, input, timeout)\u001b[0m\n\u001b[1;32m   1151\u001b[0m     endtime \u001b[39m=\u001b[39m \u001b[39mNone\u001b[39;00m\n\u001b[1;32m   1153\u001b[0m \u001b[39mtry\u001b[39;00m:\n\u001b[0;32m-> 1154\u001b[0m     stdout, stderr \u001b[39m=\u001b[39m \u001b[39mself\u001b[39;49m\u001b[39m.\u001b[39;49m_communicate(\u001b[39minput\u001b[39;49m, endtime, timeout)\n\u001b[1;32m   1155\u001b[0m \u001b[39mexcept\u001b[39;00m \u001b[39mKeyboardInterrupt\u001b[39;00m:\n\u001b[1;32m   1156\u001b[0m     \u001b[39m# https://bugs.python.org/issue25942\u001b[39;00m\n\u001b[1;32m   1157\u001b[0m     \u001b[39m# See the detailed comment in .wait().\u001b[39;00m\n\u001b[1;32m   1158\u001b[0m     \u001b[39mif\u001b[39;00m timeout \u001b[39mis\u001b[39;00m \u001b[39mnot\u001b[39;00m \u001b[39mNone\u001b[39;00m:\n",
      "File \u001b[0;32m~/miniconda3/envs/CS-3600/lib/python3.10/subprocess.py:2021\u001b[0m, in \u001b[0;36mPopen._communicate\u001b[0;34m(self, input, endtime, orig_timeout)\u001b[0m\n\u001b[1;32m   2014\u001b[0m     \u001b[39mself\u001b[39m\u001b[39m.\u001b[39m_check_timeout(endtime, orig_timeout,\n\u001b[1;32m   2015\u001b[0m                         stdout, stderr,\n\u001b[1;32m   2016\u001b[0m                         skip_check_and_raise\u001b[39m=\u001b[39m\u001b[39mTrue\u001b[39;00m)\n\u001b[1;32m   2017\u001b[0m     \u001b[39mraise\u001b[39;00m \u001b[39mRuntimeError\u001b[39;00m(  \u001b[39m# Impossible :)\u001b[39;00m\n\u001b[1;32m   2018\u001b[0m         \u001b[39m'\u001b[39m\u001b[39m_check_timeout(..., skip_check_and_raise=True) \u001b[39m\u001b[39m'\u001b[39m\n\u001b[1;32m   2019\u001b[0m         \u001b[39m'\u001b[39m\u001b[39mfailed to raise TimeoutExpired.\u001b[39m\u001b[39m'\u001b[39m)\n\u001b[0;32m-> 2021\u001b[0m ready \u001b[39m=\u001b[39m selector\u001b[39m.\u001b[39;49mselect(timeout)\n\u001b[1;32m   2022\u001b[0m \u001b[39mself\u001b[39m\u001b[39m.\u001b[39m_check_timeout(endtime, orig_timeout, stdout, stderr)\n\u001b[1;32m   2024\u001b[0m \u001b[39m# XXX Rewrite these to use non-blocking I/O on the file\u001b[39;00m\n\u001b[1;32m   2025\u001b[0m \u001b[39m# objects; they are no longer using C stdio!\u001b[39;00m\n",
      "File \u001b[0;32m~/miniconda3/envs/CS-3600/lib/python3.10/selectors.py:416\u001b[0m, in \u001b[0;36m_PollLikeSelector.select\u001b[0;34m(self, timeout)\u001b[0m\n\u001b[1;32m    414\u001b[0m ready \u001b[39m=\u001b[39m []\n\u001b[1;32m    415\u001b[0m \u001b[39mtry\u001b[39;00m:\n\u001b[0;32m--> 416\u001b[0m     fd_event_list \u001b[39m=\u001b[39m \u001b[39mself\u001b[39;49m\u001b[39m.\u001b[39;49m_selector\u001b[39m.\u001b[39;49mpoll(timeout)\n\u001b[1;32m    417\u001b[0m \u001b[39mexcept\u001b[39;00m \u001b[39mInterruptedError\u001b[39;00m:\n\u001b[1;32m    418\u001b[0m     \u001b[39mreturn\u001b[39;00m ready\n",
      "\u001b[0;31mKeyboardInterrupt\u001b[0m: "
     ]
    }
   ],
   "source": [
    "import subprocess\n",
    "import os\n",
    "\n",
    "from transformers import AutoFeatureExtractor, ResNetForImageClassification\n",
    "\n",
    "# Step 0: Check if local my_local_model/ exists\n",
    "print(f\"🔍 Checking if local model folder exists at {local_model_path}...\")\n",
    "\n",
    "if not os.path.exists(local_model_path):\n",
    "    print(\"⚡ Local model folder not found. Downloading ResNet-50 model...\")\n",
    "\n",
    "    model_name = \"microsoft/resnet-50\"\n",
    "    model = ResNetForImageClassification.from_pretrained(model_name)\n",
    "    feature_extractor = AutoFeatureExtractor.from_pretrained(model_name)\n",
    "\n",
    "    os.makedirs(local_model_path, exist_ok=True)\n",
    "    model.save_pretrained(local_model_path)\n",
    "    feature_extractor.save_pretrained(local_model_path)\n",
    "\n",
    "    print(\"✅ Model downloaded and saved locally.\")\n",
    "else:\n",
    "    print(\"✅ Local model folder already exists. Skipping download.\")\n",
    "\n",
    "# Step 1: Check if cybershuttle_project/ exists\n",
    "print(f\"🔍 Checking if project folder exists at {remote_path}...\")\n",
    "\n",
    "check_project = subprocess.run(\n",
    "    [\"ssh\", f\"{username}@{remote_host}\", f\"test -d {remote_path}\"],\n",
    "    capture_output=True\n",
    ")\n",
    "\n",
    "if check_project.returncode != 0:\n",
    "    print(\"⚡ Project folder not found. Creating...\")\n",
    "    subprocess.run(\n",
    "        [\"ssh\", f\"{username}@{remote_host}\", f\"mkdir -p {remote_path}\"],\n",
    "        text=True,\n",
    "        shell=False\n",
    "    )\n",
    "    print(\"✅ Project folder created.\")\n",
    "else:\n",
    "    print(\"✅ Project folder already exists.\")\n",
    "\n",
    "# Step 2: Check if myenv/ exists\n",
    "print(f\"🔍 Checking if virtual environment exists at {remote_path}/myenv...\")\n",
    "\n",
    "check_env = subprocess.run(\n",
    "    [\"ssh\", f\"{username}@{remote_host}\", f\"test -d {remote_path}/myenv\"],\n",
    "    capture_output=True\n",
    ")\n",
    "\n",
    "if check_env.returncode != 0:\n",
    "    print(\"⚡ Virtual environment not found. Setting up myenv...\")\n",
    "\n",
    "    setup_env_commands = (\n",
    "        f\"cd {remote_path} && \"\n",
    "        \"module load python/3.10 && \"\n",
    "        \"python -m venv myenv && \"\n",
    "        \"source myenv/bin/activate && \"\n",
    "        \"pip install --upgrade pip && \"\n",
    "        \"pip install torch torchvision transformers pillow\"\n",
    "    )\n",
    "\n",
    "    subprocess.run(\n",
    "        [\"ssh\", f\"{username}@{remote_host}\", f\"bash -l -c '{setup_env_commands}'\"],\n",
    "        text=True,\n",
    "        shell=False\n",
    "    )\n",
    "\n",
    "    print(\"✅ Virtual environment created and packages installed.\")\n",
    "else:\n",
    "    print(\"✅ Virtual environment already exists. Skipping setup.\")\n",
    "\n",
    "# Step 3: Check if my_local_model/ exists on ICE\n",
    "print(f\"🔍 Checking if model directory exists at {remote_path}/my_local_model...\")\n",
    "\n",
    "check_model = subprocess.run(\n",
    "    [\"ssh\", f\"{username}@{remote_host}\", f\"test -d {remote_path}/my_local_model\"],\n",
    "    capture_output=True\n",
    ")\n",
    "\n",
    "if check_model.returncode != 0:\n",
    "    print(\"⚡ Model not found on ICE. Uploading local my_local_model/ folder...\")\n",
    "\n",
    "    subprocess.run(\n",
    "        [\"scp\", \"-r\", local_model_path, f\"{username}@{remote_host}:{remote_path}/my_local_model\"],\n",
    "        text=True,\n",
    "        shell=False\n",
    "    )\n",
    "\n",
    "    print(\"✅ Model uploaded to ICE HPC.\")\n",
    "else:\n",
    "    print(\"✅ Model already exists on ICE. Skipping upload.\")\n"
   ]
  },
  {
   "cell_type": "code",
   "execution_count": null,
   "id": "24fc39fa",
   "metadata": {},
   "outputs": [
    {
     "name": "stdout",
     "output_type": "stream",
     "text": [
      "📤 Uploading job_script.sh to ICE...\n",
      "✅ job_script.sh uploaded successfully.\n",
      "🚀 Submitting job...\n",
      "STDOUT:\n",
      "Submitted batch job 2540110\n",
      "\n",
      "STDERR:\n",
      "\n",
      "🚀 Job ID submitted: 2540110\n"
     ]
    }
   ],
   "source": [
    "import subprocess\n",
    "import os\n",
    "\n",
    "# Step 0: Upload job_script.sh to remote\n",
    "print(\"📤 Uploading job_script.sh to ICE...\")\n",
    "\n",
    "upload_result = subprocess.run(\n",
    "    [\"scp\", \"job_script.sh\", \"run_model.py\", \"input.png\", f\"{username}@{remote_host}:{remote_path}/\"],\n",
    "    capture_output=True,\n",
    "    text=True\n",
    ")\n",
    "\n",
    "if upload_result.returncode == 0:\n",
    "    print(\"✅ job_script.sh uploaded successfully.\")\n",
    "else:\n",
    "    print(\"❗ Failed to upload job_script.sh. See error:\")\n",
    "    print(upload_result.stderr)\n",
    "    raise RuntimeError(\"Failed to upload job script.\")\n",
    "\n",
    "# Step 1: Submit the job via SSH\n",
    "print(\"🚀 Submitting job...\")\n",
    "\n",
    "result = subprocess.run(\n",
    "    [\"ssh\", f\"{username}@{remote_host}\", f\"cd {remote_path} && sbatch job_script.sh\"],\n",
    "    capture_output=True,\n",
    "    text=True\n",
    ")\n",
    "\n",
    "# Print output for debugging\n",
    "print(\"STDOUT:\")\n",
    "print(result.stdout)\n",
    "\n",
    "print(\"STDERR:\")\n",
    "print(result.stderr)\n",
    "\n",
    "# Step 2: Check if job submission succeeded\n",
    "if \"Submitted batch job\" in result.stdout.strip():\n",
    "    job_id = result.stdout.strip().split()[-1]\n",
    "    print(f\"🚀 Job ID submitted: {job_id}\")\n",
    "else:\n",
    "    print(\"❗ sbatch did not submit correctly. Please check error above.\")\n"
   ]
  },
  {
   "cell_type": "code",
   "execution_count": null,
   "id": "704d3ed1",
   "metadata": {},
   "outputs": [
    {
     "name": "stdout",
     "output_type": "stream",
     "text": [
      "⏳ Job still running...waiting 10 seconds...\n",
      "⏳ Job still running...waiting 10 seconds...\n",
      "⏳ Job still running...waiting 10 seconds...\n",
      "⏳ Job still running...waiting 10 seconds...\n",
      "✅ Job completed!\n"
     ]
    }
   ],
   "source": [
    "import time\n",
    "\n",
    "# Polling: wait for job to disappear from the queue\n",
    "while True:\n",
    "    queue_check = subprocess.run(\n",
    "        [\"ssh\", f\"{username}@{remote_host}\", f\"squeue -u {username} | grep {job_id}\"],\n",
    "        capture_output=True,\n",
    "        text=True\n",
    "    )\n",
    "    \n",
    "    if queue_check.stdout == \"\":\n",
    "        print(\"✅ Job completed!\")\n",
    "        break\n",
    "    else:\n",
    "        print(\"⏳ Job still running...waiting 10 seconds...\")\n",
    "        time.sleep(10)\n"
   ]
  },
  {
   "cell_type": "code",
   "execution_count": null,
   "id": "b25a3ea4",
   "metadata": {},
   "outputs": [
    {
     "name": "stdout",
     "output_type": "stream",
     "text": [
      "✅ Files downloaded.\n",
      "🧹 Cleaning up remote output files...\n",
      "📄 Prediction Result:\n",
      "Predicted class: tabby, tabby cat\n",
      "Execution time: 0.3223 seconds\n",
      "Peak memory usage: 2.5052 MB\n",
      "\n"
     ]
    }
   ],
   "source": [
    "import os\n",
    "\n",
    "# Download output.txt and error.log back to local\n",
    "subprocess.run([\"scp\", f\"{username}@{remote_host}:{remote_path}/output.txt\", \".\"])\n",
    "subprocess.run([\"scp\", f\"{username}@{remote_host}:{remote_path}/error.log\", \".\"])\n",
    "print(\"✅ Files downloaded.\")\n",
    "# Step 2: Delete output.txt and error.log on remote server\n",
    "print(\"🧹 Cleaning up remote output files...\")\n",
    "\n",
    "subprocess.run([\"ssh\", f\"{username}@{remote_host}\", f\"rm -f {remote_path}/output.txt {remote_path}/error.log\"])\n",
    "\n",
    "\n",
    "print(\"📄 Prediction Result:\")\n",
    "with open('output.txt', 'r') as f:\n",
    "    result_content = f.read()\n",
    "print(result_content)\n"
   ]
  }
 ],
 "metadata": {
  "kernelspec": {
   "display_name": "CS-3600",
   "language": "python",
   "name": "python3"
  },
  "language_info": {
   "codemirror_mode": {
    "name": "ipython",
    "version": 3
   },
   "file_extension": ".py",
   "mimetype": "text/x-python",
   "name": "python",
   "nbconvert_exporter": "python",
   "pygments_lexer": "ipython3",
   "version": "3.10.16"
  }
 },
 "nbformat": 4,
 "nbformat_minor": 5
}
