{
 "cells": [
  {
   "cell_type": "code",
   "execution_count": null,
   "metadata": {},
   "outputs": [],
   "source": [
    "%pip install transformers torch ipywidgets pillow"
   ]
  },
  {
   "cell_type": "code",
   "execution_count": 1,
   "metadata": {},
   "outputs": [],
   "source": [
    "from ipywidgets import FileUpload, Button, Label, HBox\n",
    "from IPython.display import display, clear_output\n",
    "import subprocess\n",
    "import os\n",
    "import time\n",
    "from transformers import AutoFeatureExtractor, ResNetForImageClassification"
   ]
  },
  {
   "cell_type": "code",
   "execution_count": 2,
   "metadata": {},
   "outputs": [],
   "source": [
    "def initialize_globals():\n",
    "    global username, remote_host, remote_path, local_model_path, job_id\n",
    "    \n",
    "    username = \"gburdell3\"  # replace with your own username\n",
    "    remote_host = \"login-ice.pace.gatech.edu\"  # don't change this!\n",
    "    remote_path = f\"/home/hice1/{username}/cybershuttle_project\"\n",
    "    local_model_path = \"./my_local_model\"  # don't change this!\n",
    "    job_id = None"
   ]
  },
  {
   "cell_type": "code",
   "execution_count": 3,
   "metadata": {},
   "outputs": [],
   "source": [
    "def setup_ui():\n",
    "    global message, uploader, submit_button\n",
    "    \n",
    "    message = Label('⏳ Please upload an image file to process')\n",
    "    uploader = FileUpload(accept='image/*', multiple=False)\n",
    "    submit_button = Button(description=\"Process Image\", button_style='success')\n",
    "    \n",
    "    submit_button.on_click(on_submit_clicked)\n",
    "    display(message, uploader, submit_button)"
   ]
  },
  {
   "cell_type": "code",
   "execution_count": 4,
   "metadata": {},
   "outputs": [],
   "source": [
    "def on_submit_clicked(b):\n",
    "    if not uploader.value:\n",
    "        message.value = \"❗ No file uploaded. Please upload an image first.\"\n",
    "        return\n",
    "    \n",
    "    # Clear output and start processing\n",
    "    clear_output()\n",
    "    \n",
    "    # Get uploaded file data\n",
    "    file_item = list(uploader.value.items())[0]\n",
    "    uploaded_filename = file_item[0]\n",
    "    uploaded_content = file_item[1]['content']\n",
    "    \n",
    "    # Display the UI again after clearing\n",
    "    display(message, uploader, submit_button)\n",
    "    message.value = \"⏳ Processing in progress...\"\n",
    "    submit_button.disabled = True\n",
    "    uploader.disabled = True\n",
    "    \n",
    "    print(f\"🔄 Processing file: {uploaded_filename}...\")\n",
    "    \n",
    "    # Save the uploaded content\n",
    "    with open('input.png', 'wb') as f:\n",
    "        f.write(uploaded_content)\n",
    "    \n",
    "    print(f\"✅ File '{uploaded_filename}' saved as 'input.png'\")\n",
    "    \n",
    "    # Run each step in sequence\n",
    "    initialize_globals()\n",
    "    check_local_model()\n",
    "    check_remote_project()\n",
    "    check_remote_env()\n",
    "    check_remote_model()\n",
    "    upload_job_files()\n",
    "    submit_job()\n",
    "    monitor_job()\n",
    "    download_results()\n",
    "    display_results()\n",
    "    \n",
    "    # Re-enable UI elements\n",
    "    message.value = \"✅ Processing complete! Upload another file to process again.\"\n",
    "    submit_button.disabled = False\n",
    "    uploader.disabled = False"
   ]
  },
  {
   "cell_type": "code",
   "execution_count": 5,
   "metadata": {},
   "outputs": [],
   "source": [
    "# Cell 5: Check local model\n",
    "def check_local_model():\n",
    "    print(f\"🔍 Checking if local model folder exists at {local_model_path}...\")\n",
    "\n",
    "    if not os.path.exists(local_model_path):\n",
    "        print(\"⚡ Local model folder not found. Downloading ResNet-50 model...\")\n",
    "\n",
    "        model_name = \"microsoft/resnet-50\"\n",
    "        model = ResNetForImageClassification.from_pretrained(model_name)\n",
    "        feature_extractor = AutoFeatureExtractor.from_pretrained(model_name)\n",
    "\n",
    "        os.makedirs(local_model_path, exist_ok=True)\n",
    "        model.save_pretrained(local_model_path)\n",
    "        feature_extractor.save_pretrained(local_model_path)\n",
    "\n",
    "        print(\"✅ Model downloaded and saved locally.\")\n",
    "    else:\n",
    "        print(\"✅ Local model folder already exists. Skipping download.\")\n"
   ]
  },
  {
   "cell_type": "code",
   "execution_count": 6,
   "metadata": {},
   "outputs": [],
   "source": [
    "def check_remote_project():\n",
    "    print(f\"🔍 Checking if project folder exists at {remote_path}...\")\n",
    "\n",
    "    check_project = subprocess.run(\n",
    "        [\"ssh\", f\"{username}@{remote_host}\", f\"test -d {remote_path}\"],\n",
    "        capture_output=True\n",
    "    )\n",
    "\n",
    "    if check_project.returncode != 0:\n",
    "        print(\"⚡ Project folder not found. Creating...\")\n",
    "        subprocess.run(\n",
    "            [\"ssh\", f\"{username}@{remote_host}\", f\"mkdir -p {remote_path}\"],\n",
    "            text=True,\n",
    "            shell=False\n",
    "        )\n",
    "        print(\"✅ Project folder created.\")\n",
    "    else:\n",
    "        print(\"✅ Project folder already exists.\")"
   ]
  },
  {
   "cell_type": "code",
   "execution_count": 7,
   "metadata": {},
   "outputs": [],
   "source": [
    "def check_remote_env():\n",
    "    print(f\"🔍 Checking if virtual environment exists at {remote_path}/myenv...\")\n",
    "\n",
    "    check_env = subprocess.run(\n",
    "        [\"ssh\", f\"{username}@{remote_host}\", f\"test -d {remote_path}/myenv\"],\n",
    "        capture_output=True\n",
    "    )\n",
    "\n",
    "    if check_env.returncode != 0:\n",
    "        print(\"⚡ Virtual environment not found. Setting up myenv...\")\n",
    "\n",
    "        setup_env_commands = (\n",
    "            f\"cd {remote_path} && \"\n",
    "            \"module load python/3.10 && \"\n",
    "            \"python -m venv myenv && \"\n",
    "            \"source myenv/bin/activate && \"\n",
    "            \"pip install --upgrade pip && \"\n",
    "            \"pip install torch torchvision transformers pillow\"\n",
    "        )\n",
    "\n",
    "        subprocess.run(\n",
    "            [\"ssh\", f\"{username}@{remote_host}\", f\"bash -l -c '{setup_env_commands}'\"],\n",
    "            text=True,\n",
    "            shell=False\n",
    "        )\n",
    "\n",
    "        print(\"✅ Virtual environment created and packages installed.\")\n",
    "    else:\n",
    "        print(\"✅ Virtual environment already exists. Skipping setup.\")"
   ]
  },
  {
   "cell_type": "code",
   "execution_count": 8,
   "metadata": {},
   "outputs": [],
   "source": [
    "def check_remote_model():\n",
    "    print(f\"🔍 Checking if model directory exists at {remote_path}/my_local_model...\")\n",
    "\n",
    "    check_model = subprocess.run(\n",
    "        [\"ssh\", f\"{username}@{remote_host}\", f\"test -d {remote_path}/my_local_model\"],\n",
    "        capture_output=True\n",
    "    )\n",
    "\n",
    "    if check_model.returncode != 0:\n",
    "        print(\"⚡ Model not found on ICE. Uploading local my_local_model/ folder...\")\n",
    "\n",
    "        subprocess.run(\n",
    "            [\"scp\", \"-r\", local_model_path, f\"{username}@{remote_host}:{remote_path}/my_local_model\"],\n",
    "            text=True,\n",
    "            shell=False\n",
    "        )\n",
    "\n",
    "        print(\"✅ Model uploaded to ICE HPC.\")\n",
    "    else:\n",
    "        print(\"✅ Model already exists on ICE. Skipping upload.\")"
   ]
  },
  {
   "cell_type": "code",
   "execution_count": 9,
   "metadata": {},
   "outputs": [],
   "source": [
    "def upload_job_files():\n",
    "    print(\"📤 Uploading job_script.sh to ICE...\")\n",
    "\n",
    "    upload_result = subprocess.run(\n",
    "        [\"scp\", \"job_script.sh\", \"run_model.py\", \"input.png\", f\"{username}@{remote_host}:{remote_path}/\"],\n",
    "        capture_output=True,\n",
    "        text=True\n",
    "    )\n",
    "\n",
    "    if upload_result.returncode == 0:\n",
    "        print(\"✅ job_script.sh uploaded successfully.\")\n",
    "    else:\n",
    "        print(\"❗ Failed to upload job_script.sh. See error:\")\n",
    "        print(upload_result.stderr)\n",
    "        raise RuntimeError(\"Failed to upload job script.\")"
   ]
  },
  {
   "cell_type": "code",
   "execution_count": 10,
   "metadata": {},
   "outputs": [],
   "source": [
    "def submit_job():\n",
    "    global job_id\n",
    "    \n",
    "    print(\"🚀 Submitting job...\")\n",
    "\n",
    "    result = subprocess.run(\n",
    "        [\"ssh\", f\"{username}@{remote_host}\", f\"cd {remote_path} && sbatch job_script.sh\"],\n",
    "        capture_output=True,\n",
    "        text=True\n",
    "    )\n",
    "\n",
    "    # Print output for debugging\n",
    "    print(\"STDOUT:\")\n",
    "    print(result.stdout)\n",
    "\n",
    "    print(\"STDERR:\")\n",
    "    print(result.stderr)\n",
    "\n",
    "    # Check if job submission succeeded\n",
    "    if \"Submitted batch job\" in result.stdout.strip():\n",
    "        job_id = result.stdout.strip().split()[-1]\n",
    "        print(f\"🚀 Job ID submitted: {job_id}\")\n",
    "    else:\n",
    "        print(\"❗ sbatch did not submit correctly. Please check error above.\")"
   ]
  },
  {
   "cell_type": "code",
   "execution_count": 11,
   "metadata": {},
   "outputs": [],
   "source": [
    "def monitor_job():\n",
    "    if not job_id:\n",
    "        print(\"❗ No job ID available to monitor.\")\n",
    "        return\n",
    "        \n",
    "    print(\"⏳ Monitoring job status...\")\n",
    "    while True:\n",
    "        queue_check = subprocess.run(\n",
    "            [\"ssh\", f\"{username}@{remote_host}\", f\"squeue -u {username} | grep {job_id}\"],\n",
    "            capture_output=True,\n",
    "            text=True\n",
    "        )\n",
    "        \n",
    "        if queue_check.stdout == \"\":\n",
    "            print(\"✅ Job completed!\")\n",
    "            break\n",
    "        else:\n",
    "            print(\"⏳ Job still running...waiting 10 seconds...\")\n",
    "            time.sleep(10)\n"
   ]
  },
  {
   "cell_type": "code",
   "execution_count": 12,
   "metadata": {},
   "outputs": [],
   "source": [
    "def download_results():\n",
    "    print(\"📥 Downloading results...\")\n",
    "    subprocess.run([\"scp\", f\"{username}@{remote_host}:{remote_path}/output.txt\", \".\"])\n",
    "    subprocess.run([\"scp\", f\"{username}@{remote_host}:{remote_path}/error.log\", \".\"])\n",
    "    print(\"✅ Files downloaded.\")\n",
    "    \n",
    "    print(\"🧹 Cleaning up remote output files...\")\n",
    "    subprocess.run([\"ssh\", f\"{username}@{remote_host}\", f\"rm -f {remote_path}/output.txt {remote_path}/error.log\"])\n"
   ]
  },
  {
   "cell_type": "code",
   "execution_count": null,
   "metadata": {},
   "outputs": [],
   "source": [
    "def display_results():\n",
    "    print(\"📄 Prediction Result:\")\n",
    "    try:\n",
    "        with open('output.txt', 'r') as f:\n",
    "            result_content = f.read()\n",
    "        print(result_content)\n",
    "    except FileNotFoundError:\n",
    "        print(\"❗ Output file not found. Check for errors in the process.\")"
   ]
  },
  {
   "cell_type": "code",
   "execution_count": null,
   "metadata": {},
   "outputs": [
    {
     "data": {
      "application/vnd.jupyter.widget-view+json": {
       "model_id": "1a73b1fb725f42739bf22108b4e5702d",
       "version_major": 2,
       "version_minor": 0
      },
      "text/plain": [
       "Label(value='⏳ Please upload an image file to process')"
      ]
     },
     "metadata": {},
     "output_type": "display_data"
    },
    {
     "data": {
      "application/vnd.jupyter.widget-view+json": {
       "model_id": "83c55e595df34d1487a3278f93119368",
       "version_major": 2,
       "version_minor": 0
      },
      "text/plain": [
       "FileUpload(value=(), accept='image/*', description='Upload')"
      ]
     },
     "metadata": {},
     "output_type": "display_data"
    },
    {
     "data": {
      "application/vnd.jupyter.widget-view+json": {
       "model_id": "e26c02e97f3f45b0aa3112c97f9b1fe6",
       "version_major": 2,
       "version_minor": 0
      },
      "text/plain": [
       "Button(button_style='success', description='Process Image', style=ButtonStyle())"
      ]
     },
     "metadata": {},
     "output_type": "display_data"
    }
   ],
   "source": [
    "setup_ui()"
   ]
  }
 ],
 "metadata": {
  "kernelspec": {
   "display_name": "CS-3600",
   "language": "python",
   "name": "python3"
  },
  "language_info": {
   "codemirror_mode": {
    "name": "ipython",
    "version": 3
   },
   "file_extension": ".py",
   "mimetype": "text/x-python",
   "name": "python",
   "nbconvert_exporter": "python",
   "pygments_lexer": "ipython3",
   "version": "3.10.16"
  },
  "orig_nbformat": 4
 },
 "nbformat": 4,
 "nbformat_minor": 2
}
