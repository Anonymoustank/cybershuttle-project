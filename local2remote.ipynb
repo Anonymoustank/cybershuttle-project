{
 "cells": [
  {
   "cell_type": "code",
   "execution_count": 33,
   "id": "85372c98",
   "metadata": {},
   "outputs": [
    {
     "data": {
      "application/vnd.jupyter.widget-view+json": {
       "model_id": "b62dd0d0841b4d208044a880b6007c54",
       "version_major": 2,
       "version_minor": 0
      },
      "text/plain": [
       "FileUpload(value=(), accept='image/*', description='Upload')"
      ]
     },
     "metadata": {},
     "output_type": "display_data"
    }
   ],
   "source": [
    "from ipywidgets import FileUpload\n",
    "from IPython.display import display\n",
    "import io\n",
    "\n",
    "uploader = FileUpload(accept='image/*', multiple=False)\n",
    "display(uploader)\n"
   ]
  },
  {
   "cell_type": "code",
   "execution_count": 35,
   "id": "0196eb65",
   "metadata": {},
   "outputs": [
    {
     "name": "stdout",
     "output_type": "stream",
     "text": [
      "✅ File 'cat.png' saved as 'input.png'\n"
     ]
    }
   ],
   "source": [
    "# Save uploaded file\n",
    "if uploader.value:\n",
    "    uploaded_file = uploader.value[0]   # Get the first uploaded file (dictionary inside tuple)\n",
    "    uploaded_filename = uploaded_file['name']\n",
    "    uploaded_content = uploaded_file['content']\n",
    "    \n",
    "    # Save the uploaded content\n",
    "    with open('input.png', 'wb') as f:\n",
    "        f.write(uploaded_content)\n",
    "    \n",
    "    print(f\"✅ File '{uploaded_filename}' saved as 'input.png'\")\n",
    "else:\n",
    "    print(\"❗ No file uploaded. Please upload an image first.\")\n"
   ]
  },
  {
   "cell_type": "code",
   "execution_count": 36,
   "id": "12dcbdda",
   "metadata": {},
   "outputs": [
    {
     "name": "stdout",
     "output_type": "stream",
     "text": [
      "🔍 Checking if local model folder exists at ./my_local_model...\n",
      "✅ Local model folder already exists. Skipping download.\n",
      "🔍 Checking if project folder exists at /home/hice1/zyan319/cybershuttle_project...\n",
      "✅ Project folder already exists.\n",
      "🔍 Checking if virtual environment exists at /home/hice1/zyan319/cybershuttle_project/myenv...\n",
      "✅ Virtual environment already exists. Skipping setup.\n",
      "🔍 Checking if model directory exists at /home/hice1/zyan319/cybershuttle_project/my_local_model...\n",
      "✅ Model already exists on ICE. Skipping upload.\n"
     ]
    }
   ],
   "source": [
    "import subprocess\n",
    "import os\n",
    "\n",
    "from transformers import AutoFeatureExtractor, ResNetForImageClassification\n",
    "\n",
    "username = \"zyan319\"\n",
    "remote_host = \"login-ice.pace.gatech.edu\"\n",
    "remote_path = \"/home/hice1/zyan319/cybershuttle_project\"\n",
    "local_model_path = \"./my_local_model\"\n",
    "\n",
    "# Step 0: Check if local my_local_model/ exists\n",
    "print(f\"🔍 Checking if local model folder exists at {local_model_path}...\")\n",
    "\n",
    "if not os.path.exists(local_model_path):\n",
    "    print(\"⚡ Local model folder not found. Downloading ResNet-50 model...\")\n",
    "\n",
    "    model_name = \"microsoft/resnet-50\"\n",
    "    model = ResNetForImageClassification.from_pretrained(model_name)\n",
    "    feature_extractor = AutoFeatureExtractor.from_pretrained(model_name)\n",
    "\n",
    "    os.makedirs(local_model_path, exist_ok=True)\n",
    "    model.save_pretrained(local_model_path)\n",
    "    feature_extractor.save_pretrained(local_model_path)\n",
    "\n",
    "    print(\"✅ Model downloaded and saved locally.\")\n",
    "else:\n",
    "    print(\"✅ Local model folder already exists. Skipping download.\")\n",
    "\n",
    "# Step 1: Check if cybershuttle_project/ exists\n",
    "print(f\"🔍 Checking if project folder exists at {remote_path}...\")\n",
    "\n",
    "check_project = subprocess.run(\n",
    "    [\"ssh\", f\"{username}@{remote_host}\", f\"test -d {remote_path}\"],\n",
    "    capture_output=True\n",
    ")\n",
    "\n",
    "if check_project.returncode != 0:\n",
    "    print(\"⚡ Project folder not found. Creating...\")\n",
    "    subprocess.run(\n",
    "        [\"ssh\", f\"{username}@{remote_host}\", f\"mkdir -p {remote_path}\"],\n",
    "        text=True,\n",
    "        shell=False\n",
    "    )\n",
    "    print(\"✅ Project folder created.\")\n",
    "else:\n",
    "    print(\"✅ Project folder already exists.\")\n",
    "\n",
    "# Step 2: Check if myenv/ exists\n",
    "print(f\"🔍 Checking if virtual environment exists at {remote_path}/myenv...\")\n",
    "\n",
    "check_env = subprocess.run(\n",
    "    [\"ssh\", f\"{username}@{remote_host}\", f\"test -d {remote_path}/myenv\"],\n",
    "    capture_output=True\n",
    ")\n",
    "\n",
    "if check_env.returncode != 0:\n",
    "    print(\"⚡ Virtual environment not found. Setting up myenv...\")\n",
    "\n",
    "    setup_env_commands = (\n",
    "        f\"cd {remote_path} && \"\n",
    "        \"module load python/3.10 && \"\n",
    "        \"python -m venv myenv && \"\n",
    "        \"source myenv/bin/activate && \"\n",
    "        \"pip install --upgrade pip && \"\n",
    "        \"pip install torch torchvision transformers pillow\"\n",
    "    )\n",
    "\n",
    "    subprocess.run(\n",
    "        [\"ssh\", f\"{username}@{remote_host}\", f\"bash -l -c '{setup_env_commands}'\"],\n",
    "        text=True,\n",
    "        shell=False\n",
    "    )\n",
    "\n",
    "    print(\"✅ Virtual environment created and packages installed.\")\n",
    "else:\n",
    "    print(\"✅ Virtual environment already exists. Skipping setup.\")\n",
    "\n",
    "# Step 3: Check if my_local_model/ exists on ICE\n",
    "print(f\"🔍 Checking if model directory exists at {remote_path}/my_local_model...\")\n",
    "\n",
    "check_model = subprocess.run(\n",
    "    [\"ssh\", f\"{username}@{remote_host}\", f\"test -d {remote_path}/my_local_model\"],\n",
    "    capture_output=True\n",
    ")\n",
    "\n",
    "if check_model.returncode != 0:\n",
    "    print(\"⚡ Model not found on ICE. Uploading local my_local_model/ folder...\")\n",
    "\n",
    "    subprocess.run(\n",
    "        [\"scp\", \"-r\", local_model_path, f\"{username}@{remote_host}:{remote_path}/my_local_model\"],\n",
    "        text=True,\n",
    "        shell=False\n",
    "    )\n",
    "\n",
    "    print(\"✅ Model uploaded to ICE HPC.\")\n",
    "else:\n",
    "    print(\"✅ Model already exists on ICE. Skipping upload.\")\n"
   ]
  },
  {
   "cell_type": "code",
   "execution_count": 37,
   "id": "24fc39fa",
   "metadata": {},
   "outputs": [
    {
     "name": "stdout",
     "output_type": "stream",
     "text": [
      "📤 Uploading job_script.sh to ICE...\n",
      "✅ job_script.sh uploaded successfully.\n",
      "🚀 Submitting job...\n",
      "STDOUT:\n",
      "Submitted batch job 2540110\n",
      "\n",
      "STDERR:\n",
      "\n",
      "🚀 Job ID submitted: 2540110\n"
     ]
    }
   ],
   "source": [
    "import subprocess\n",
    "import os\n",
    "\n",
    "username = \"zyan319\"\n",
    "remote_host = \"login-ice.pace.gatech.edu\"\n",
    "remote_path = \"/home/hice1/zyan319/cybershuttle_project\"\n",
    "\n",
    "# Step 0: Upload job_script.sh to remote\n",
    "print(\"📤 Uploading job_script.sh to ICE...\")\n",
    "\n",
    "upload_result = subprocess.run(\n",
    "    [\"scp\", \"job_script.sh\", \"run_model.py\", \"input.png\", f\"{username}@{remote_host}:{remote_path}/\"],\n",
    "    capture_output=True,\n",
    "    text=True\n",
    ")\n",
    "\n",
    "if upload_result.returncode == 0:\n",
    "    print(\"✅ job_script.sh uploaded successfully.\")\n",
    "else:\n",
    "    print(\"❗ Failed to upload job_script.sh. See error:\")\n",
    "    print(upload_result.stderr)\n",
    "    raise RuntimeError(\"Failed to upload job script.\")\n",
    "\n",
    "# Step 1: Submit the job via SSH\n",
    "print(\"🚀 Submitting job...\")\n",
    "\n",
    "result = subprocess.run(\n",
    "    [\"ssh\", f\"{username}@{remote_host}\", f\"cd {remote_path} && sbatch job_script.sh\"],\n",
    "    capture_output=True,\n",
    "    text=True\n",
    ")\n",
    "\n",
    "# Print output for debugging\n",
    "print(\"STDOUT:\")\n",
    "print(result.stdout)\n",
    "\n",
    "print(\"STDERR:\")\n",
    "print(result.stderr)\n",
    "\n",
    "# Step 2: Check if job submission succeeded\n",
    "if \"Submitted batch job\" in result.stdout.strip():\n",
    "    job_id = result.stdout.strip().split()[-1]\n",
    "    print(f\"🚀 Job ID submitted: {job_id}\")\n",
    "else:\n",
    "    print(\"❗ sbatch did not submit correctly. Please check error above.\")\n"
   ]
  },
  {
   "cell_type": "code",
   "execution_count": 38,
   "id": "704d3ed1",
   "metadata": {},
   "outputs": [
    {
     "name": "stdout",
     "output_type": "stream",
     "text": [
      "⏳ Job still running...waiting 10 seconds...\n",
      "⏳ Job still running...waiting 10 seconds...\n",
      "⏳ Job still running...waiting 10 seconds...\n",
      "⏳ Job still running...waiting 10 seconds...\n",
      "✅ Job completed!\n"
     ]
    }
   ],
   "source": [
    "import time\n",
    "\n",
    "# Polling: wait for job to disappear from the queue\n",
    "while True:\n",
    "    queue_check = subprocess.run(\n",
    "        [\"ssh\", f\"{username}@{remote_host}\", f\"squeue -u {username} | grep {job_id}\"],\n",
    "        capture_output=True,\n",
    "        text=True\n",
    "    )\n",
    "    \n",
    "    if queue_check.stdout == \"\":\n",
    "        print(\"✅ Job completed!\")\n",
    "        break\n",
    "    else:\n",
    "        print(\"⏳ Job still running...waiting 10 seconds...\")\n",
    "        time.sleep(10)\n"
   ]
  },
  {
   "cell_type": "code",
   "execution_count": 39,
   "id": "b25a3ea4",
   "metadata": {},
   "outputs": [
    {
     "name": "stdout",
     "output_type": "stream",
     "text": [
      "✅ Files downloaded.\n",
      "🧹 Cleaning up remote output files...\n",
      "📄 Prediction Result:\n",
      "Predicted class: tabby, tabby cat\n",
      "Execution time: 0.3223 seconds\n",
      "Peak memory usage: 2.5052 MB\n",
      "\n"
     ]
    }
   ],
   "source": [
    "import os\n",
    "\n",
    "# Download output.txt and error.log back to local\n",
    "subprocess.run([\"scp\", f\"{username}@{remote_host}:{remote_path}/output.txt\", \".\"])\n",
    "subprocess.run([\"scp\", f\"{username}@{remote_host}:{remote_path}/error.log\", \".\"])\n",
    "print(\"✅ Files downloaded.\")\n",
    "# Step 2: Delete output.txt and error.log on remote server\n",
    "print(\"🧹 Cleaning up remote output files...\")\n",
    "\n",
    "subprocess.run([\"ssh\", f\"{username}@{remote_host}\", f\"rm -f {remote_path}/output.txt {remote_path}/error.log\"])\n",
    "\n",
    "\n",
    "print(\"📄 Prediction Result:\")\n",
    "with open('output.txt', 'r') as f:\n",
    "    result_content = f.read()\n",
    "print(result_content)\n"
   ]
  }
 ],
 "metadata": {
  "kernelspec": {
   "display_name": "CS-3600",
   "language": "python",
   "name": "python3"
  },
  "language_info": {
   "codemirror_mode": {
    "name": "ipython",
    "version": 3
   },
   "file_extension": ".py",
   "mimetype": "text/x-python",
   "name": "python",
   "nbconvert_exporter": "python",
   "pygments_lexer": "ipython3",
   "version": "3.10.16"
  }
 },
 "nbformat": 4,
 "nbformat_minor": 5
}
